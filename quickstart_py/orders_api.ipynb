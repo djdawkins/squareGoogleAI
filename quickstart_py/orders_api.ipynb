{
 "cells": [
  {
   "cell_type": "code",
   "execution_count": 6,
   "metadata": {},
   "outputs": [
    {
     "data": {
      "text/plain": [
       "True"
      ]
     },
     "execution_count": 6,
     "metadata": {},
     "output_type": "execute_result"
    }
   ],
   "source": [
    "from square.client import Client\n",
    "import os\n",
    "from dotenv import load_dotenv\n",
    "import pandas as pd\n",
    "load_dotenv()"
   ]
  },
  {
   "cell_type": "code",
   "execution_count": 7,
   "metadata": {},
   "outputs": [],
   "source": [
    "client = Client(\n",
    "    access_token=os.environ['SQUARE_ACCESS_TOKEN'],\n",
    "    environment='sandbox')\n",
    "\n",
    "orders_api = client.orders"
   ]
  },
  {
   "cell_type": "markdown",
   "metadata": {},
   "source": [
    "### Search orders"
   ]
  },
  {
   "cell_type": "code",
   "execution_count": 8,
   "metadata": {},
   "outputs": [
    {
     "name": "stdout",
     "output_type": "stream",
     "text": [
      "{'order_entries': [{'order_id': '5svy0EhkF9zMrNOu65PHysIT1CgZY', 'version': 4, 'location_id': 'LV2XZS82XY1QP'}, {'order_id': '35gVxVXkWdWou4DRJUXU6bffLGDZY', 'version': 2, 'location_id': 'LV2XZS82XY1QP'}, {'order_id': 'VUS3l0ra1oLrs1G9UcGKctmZbLNZY', 'version': 1, 'location_id': 'LV2XZS82XY1QP'}, {'order_id': 'FU6BBIb5lgNN4ezJo8YYVGBor0CZY', 'version': 1, 'location_id': 'LV2XZS82XY1QP'}, {'order_id': 'TtZ4vOJa0tKIRfUTDOPIVc9y8kSZY', 'version': 1, 'location_id': 'LV2XZS82XY1QP'}], 'cursor': 'y19hUcF1YCYlFajJBRT04YbRVE89Co5qIAWnTS1AEcBBsC3N2lKSSGiPxyBp6z63sJv4VkstgDmDv8X8Ugmf7nN41dvrmVFBhRSRi6xmnM7CELVTaFZKw9ULIvbWCyAjOU6Ut8awOmUfBtEsoz5nvIFYwhrXxBDyjWsh2H45aqH5qdOa7I9VM3BzbA2Vc1rIZRWyDei7MSXFgHOKG6Mrocif1rnptuj8CylbsXR0KEAV8YXmQuTlxb9n8msYfyAbdEZbamW9jkODvJZ5Vq3fhbdCatLY2wdoq6jIRrK5n2kyBLyHX5ves9Dl9pbYYO'}\n"
     ]
    }
   ],
   "source": [
    "# Search orders\n",
    "body = {\n",
    "    'location_ids': ['LV2XZS82XY1QP'],\n",
    "    'query': {\n",
    "        'filter': {\n",
    "        }\n",
    "    },\n",
    "    'limit': 5,\n",
    "    'return_entries': True\n",
    "}\n",
    "\n",
    "result = orders_api.search_orders(body)\n",
    "\n",
    "if result.is_success():\n",
    "    print(result.body)\n",
    "elif result.is_error():\n",
    "    print(result.errors)\n"
   ]
  },
  {
   "cell_type": "markdown",
   "metadata": {},
   "source": [
    "### Get list of order id's"
   ]
  },
  {
   "cell_type": "code",
   "execution_count": 9,
   "metadata": {},
   "outputs": [
    {
     "name": "stdout",
     "output_type": "stream",
     "text": [
      "5\n"
     ]
    },
    {
     "data": {
      "text/plain": [
       "['5svy0EhkF9zMrNOu65PHysIT1CgZY',\n",
       " '35gVxVXkWdWou4DRJUXU6bffLGDZY',\n",
       " 'VUS3l0ra1oLrs1G9UcGKctmZbLNZY',\n",
       " 'FU6BBIb5lgNN4ezJo8YYVGBor0CZY',\n",
       " 'TtZ4vOJa0tKIRfUTDOPIVc9y8kSZY']"
      ]
     },
     "execution_count": 9,
     "metadata": {},
     "output_type": "execute_result"
    }
   ],
   "source": [
    "orders_dict = result.body\n",
    "order_entries_list = orders_dict[\"order_entries\"]\n",
    "\n",
    "print(len(order_entries_list))\n",
    "order_id_list = []\n",
    "\n",
    "for x in range(0, len(order_entries_list)):\n",
    "    order_id = order_entries_list[x][\"order_id\"]\n",
    "    order_id_list.append(order_id)\n",
    "\n",
    "order_id_list\n"
   ]
  },
  {
   "cell_type": "markdown",
   "metadata": {},
   "source": [
    "### Batch retrieve orders"
   ]
  },
  {
   "cell_type": "code",
   "execution_count": 10,
   "metadata": {},
   "outputs": [
    {
     "name": "stdout",
     "output_type": "stream",
     "text": [
      "{'orders': [{'id': '5svy0EhkF9zMrNOu65PHysIT1CgZY', 'location_id': 'LV2XZS82XY1QP', 'line_items': [{'uid': 'vM0CBSAwJG9zRaeBoOZxbD', 'catalog_object_id': 'QXCVMRPLR46NRMAN326LPQVY', 'catalog_version': 1694394690403, 'quantity': '1', 'name': 'Croissant', 'variation_name': 'Regular', 'base_price_money': {'amount': 375, 'currency': 'USD'}, 'gross_sales_money': {'amount': 375, 'currency': 'USD'}, 'total_tax_money': {'amount': 0, 'currency': 'USD'}, 'total_discount_money': {'amount': 0, 'currency': 'USD'}, 'total_money': {'amount': 375, 'currency': 'USD'}, 'variation_total_price_money': {'amount': 375, 'currency': 'USD'}, 'item_type': 'ITEM', 'total_service_charge_money': {'amount': 0, 'currency': 'USD'}}], 'created_at': '2023-09-11T01:33:06.892Z', 'updated_at': '2023-09-11T01:33:07.784Z', 'state': 'OPEN', 'version': 4, 'total_tax_money': {'amount': 0, 'currency': 'USD'}, 'total_discount_money': {'amount': 0, 'currency': 'USD'}, 'total_tip_money': {'amount': 0, 'currency': 'USD'}, 'total_money': {'amount': 375, 'currency': 'USD'}, 'total_service_charge_money': {'amount': 0, 'currency': 'USD'}, 'net_amounts': {'total_money': {'amount': 375, 'currency': 'USD'}, 'tax_money': {'amount': 0, 'currency': 'USD'}, 'discount_money': {'amount': 0, 'currency': 'USD'}, 'tip_money': {'amount': 0, 'currency': 'USD'}, 'service_charge_money': {'amount': 0, 'currency': 'USD'}}, 'source': {'name': 'Sandbox for sq0idp-wbdRN2PA9P-8vSPiGU--5w'}, 'net_amount_due_money': {'amount': 375, 'currency': 'USD'}}, {'id': '35gVxVXkWdWou4DRJUXU6bffLGDZY', 'location_id': 'LV2XZS82XY1QP', 'line_items': [{'uid': 'vM0CBSAwJG9zRaeBoOZxbD', 'catalog_object_id': 'QXCVMRPLR46NRMAN326LPQVY', 'catalog_version': 1694394690403, 'quantity': '1', 'name': 'Croissant', 'variation_name': 'Regular', 'base_price_money': {'amount': 375, 'currency': 'USD'}, 'gross_sales_money': {'amount': 375, 'currency': 'USD'}, 'total_tax_money': {'amount': 0, 'currency': 'USD'}, 'total_discount_money': {'amount': 0, 'currency': 'USD'}, 'total_money': {'amount': 375, 'currency': 'USD'}, 'variation_total_price_money': {'amount': 375, 'currency': 'USD'}, 'item_type': 'ITEM', 'total_service_charge_money': {'amount': 0, 'currency': 'USD'}}], 'created_at': '2023-09-11T01:24:12.881Z', 'updated_at': '2023-09-11T01:33:05.996Z', 'state': 'DRAFT', 'version': 2, 'total_tax_money': {'amount': 0, 'currency': 'USD'}, 'total_discount_money': {'amount': 0, 'currency': 'USD'}, 'total_tip_money': {'amount': 0, 'currency': 'USD'}, 'total_money': {'amount': 375, 'currency': 'USD'}, 'total_service_charge_money': {'amount': 0, 'currency': 'USD'}, 'net_amounts': {'total_money': {'amount': 375, 'currency': 'USD'}, 'tax_money': {'amount': 0, 'currency': 'USD'}, 'discount_money': {'amount': 0, 'currency': 'USD'}, 'tip_money': {'amount': 0, 'currency': 'USD'}, 'service_charge_money': {'amount': 0, 'currency': 'USD'}}, 'source': {'name': 'Sandbox for sq0idp-wbdRN2PA9P-8vSPiGU--5w'}, 'net_amount_due_money': {'amount': 375, 'currency': 'USD'}}, {'id': 'VUS3l0ra1oLrs1G9UcGKctmZbLNZY', 'location_id': 'LV2XZS82XY1QP', 'line_items': [{'uid': 'G6Q1kFXBeiZEO5aAqANN6C', 'catalog_object_id': 'QXCVMRPLR46NRMAN326LPQVY', 'catalog_version': 1694383794503, 'quantity': '1', 'name': 'Croissant', 'variation_name': 'Regular', 'base_price_money': {'amount': 375, 'currency': 'USD'}, 'gross_sales_money': {'amount': 375, 'currency': 'USD'}, 'total_tax_money': {'amount': 0, 'currency': 'USD'}, 'total_discount_money': {'amount': 0, 'currency': 'USD'}, 'total_money': {'amount': 375, 'currency': 'USD'}, 'variation_total_price_money': {'amount': 375, 'currency': 'USD'}, 'item_type': 'ITEM', 'total_service_charge_money': {'amount': 0, 'currency': 'USD'}}], 'created_at': '2023-09-11T00:27:53.013Z', 'updated_at': '2023-09-11T00:27:53.013Z', 'state': 'DRAFT', 'version': 1, 'total_tax_money': {'amount': 0, 'currency': 'USD'}, 'total_discount_money': {'amount': 0, 'currency': 'USD'}, 'total_tip_money': {'amount': 0, 'currency': 'USD'}, 'total_money': {'amount': 375, 'currency': 'USD'}, 'total_service_charge_money': {'amount': 0, 'currency': 'USD'}, 'net_amounts': {'total_money': {'amount': 375, 'currency': 'USD'}, 'tax_money': {'amount': 0, 'currency': 'USD'}, 'discount_money': {'amount': 0, 'currency': 'USD'}, 'tip_money': {'amount': 0, 'currency': 'USD'}, 'service_charge_money': {'amount': 0, 'currency': 'USD'}}, 'source': {'name': 'Sandbox for sq0idp-wbdRN2PA9P-8vSPiGU--5w'}, 'net_amount_due_money': {'amount': 375, 'currency': 'USD'}}, {'id': 'FU6BBIb5lgNN4ezJo8YYVGBor0CZY', 'location_id': 'LV2XZS82XY1QP', 'line_items': [{'uid': 'mkzqh3WLSJkpmjF3jiMaJ', 'catalog_object_id': 'QU2JOEL4HG64KCTGLUSLFUK6', 'catalog_version': 1694225358547, 'quantity': '5', 'name': 'Tea', 'variation_name': 'Honey Lemon', 'base_price_money': {'amount': 200, 'currency': 'USD'}, 'gross_sales_money': {'amount': 1000, 'currency': 'USD'}, 'total_tax_money': {'amount': 100, 'currency': 'USD'}, 'total_discount_money': {'amount': 0, 'currency': 'USD'}, 'total_money': {'amount': 1100, 'currency': 'USD'}, 'variation_total_price_money': {'amount': 1000, 'currency': 'USD'}, 'applied_taxes': [{'uid': 'lCw1SLSfOwyj56wWUKXaYB', 'tax_uid': 'sales_tax', 'applied_money': {'amount': 100, 'currency': 'USD'}}], 'item_type': 'ITEM', 'total_service_charge_money': {'amount': 0, 'currency': 'USD'}}], 'taxes': [{'uid': 'sales_tax', 'catalog_object_id': 'G6WSJ5RQDYVBKO5Z6PQH3WJJ', 'catalog_version': 1694225358547, 'name': 'Sales tax', 'percentage': '10.0', 'type': 'ADDITIVE', 'applied_money': {'amount': 100, 'currency': 'USD'}, 'scope': 'ORDER'}], 'created_at': '2023-09-09T02:09:50.182Z', 'updated_at': '2023-09-09T02:09:50.182Z', 'state': 'OPEN', 'version': 1, 'reference_id': 'GRAPHQL-SAMPLE-APP', 'total_tax_money': {'amount': 100, 'currency': 'USD'}, 'total_discount_money': {'amount': 0, 'currency': 'USD'}, 'total_tip_money': {'amount': 0, 'currency': 'USD'}, 'total_money': {'amount': 1100, 'currency': 'USD'}, 'total_service_charge_money': {'amount': 0, 'currency': 'USD'}, 'net_amounts': {'total_money': {'amount': 1100, 'currency': 'USD'}, 'tax_money': {'amount': 100, 'currency': 'USD'}, 'discount_money': {'amount': 0, 'currency': 'USD'}, 'tip_money': {'amount': 0, 'currency': 'USD'}, 'service_charge_money': {'amount': 0, 'currency': 'USD'}}, 'source': {'name': 'GRAPHQL-SAMPLE-APP'}, 'customer_id': 'VK09BGAVBNB1T5F4530K163W5M', 'net_amount_due_money': {'amount': 1100, 'currency': 'USD'}}, {'id': 'TtZ4vOJa0tKIRfUTDOPIVc9y8kSZY', 'location_id': 'LV2XZS82XY1QP', 'line_items': [{'uid': 'zF2o4RSnprTcKLDxZrAa7', 'catalog_object_id': 'M5XGQR3VGKXQRLU5PCI3KH3C', 'catalog_version': 1694225358547, 'quantity': '4', 'name': 'Coffee', 'variation_name': 'Extra Large', 'base_price_money': {'amount': 219, 'currency': 'USD'}, 'gross_sales_money': {'amount': 876, 'currency': 'USD'}, 'total_tax_money': {'amount': 88, 'currency': 'USD'}, 'total_discount_money': {'amount': 0, 'currency': 'USD'}, 'total_money': {'amount': 964, 'currency': 'USD'}, 'variation_total_price_money': {'amount': 876, 'currency': 'USD'}, 'applied_taxes': [{'uid': 'SXMc8rqRAqkgLTLYe2l8gB', 'tax_uid': 'sales_tax', 'applied_money': {'amount': 88, 'currency': 'USD'}}], 'item_type': 'ITEM', 'total_service_charge_money': {'amount': 0, 'currency': 'USD'}}], 'taxes': [{'uid': 'sales_tax', 'catalog_object_id': 'G6WSJ5RQDYVBKO5Z6PQH3WJJ', 'catalog_version': 1694225358547, 'name': 'Sales tax', 'percentage': '10.0', 'type': 'ADDITIVE', 'applied_money': {'amount': 88, 'currency': 'USD'}, 'scope': 'ORDER'}], 'created_at': '2023-09-09T02:09:49.475Z', 'updated_at': '2023-09-09T02:09:49.475Z', 'state': 'OPEN', 'version': 1, 'reference_id': 'GRAPHQL-SAMPLE-APP', 'total_tax_money': {'amount': 88, 'currency': 'USD'}, 'total_discount_money': {'amount': 0, 'currency': 'USD'}, 'total_tip_money': {'amount': 0, 'currency': 'USD'}, 'total_money': {'amount': 964, 'currency': 'USD'}, 'total_service_charge_money': {'amount': 0, 'currency': 'USD'}, 'net_amounts': {'total_money': {'amount': 964, 'currency': 'USD'}, 'tax_money': {'amount': 88, 'currency': 'USD'}, 'discount_money': {'amount': 0, 'currency': 'USD'}, 'tip_money': {'amount': 0, 'currency': 'USD'}, 'service_charge_money': {'amount': 0, 'currency': 'USD'}}, 'source': {'name': 'GRAPHQL-SAMPLE-APP'}, 'customer_id': '1P0ZY96849H446231JNDH0V97R', 'net_amount_due_money': {'amount': 964, 'currency': 'USD'}}]}\n"
     ]
    }
   ],
   "source": [
    "batch_orders = client.orders.batch_retrieve_orders(\n",
    "  body = {\n",
    "    \"order_ids\": order_id_list\n",
    "  }\n",
    ")\n",
    "\n",
    "if batch_orders.is_success():\n",
    "  print(batch_orders.body)\n",
    "elif batch_orders.is_error():\n",
    "  print(batch_orders.errors)"
   ]
  },
  {
   "cell_type": "markdown",
   "metadata": {},
   "source": [
    "### List of orders"
   ]
  },
  {
   "cell_type": "code",
   "execution_count": 11,
   "metadata": {},
   "outputs": [],
   "source": [
    "batch_orders_dict = batch_orders.body\n",
    "batch_orders_list = batch_orders_dict['orders']"
   ]
  },
  {
   "cell_type": "code",
   "execution_count": 13,
   "metadata": {},
   "outputs": [
    {
     "data": {
      "text/plain": [
       "[{'id': '5svy0EhkF9zMrNOu65PHysIT1CgZY',\n",
       "  'location_id': 'LV2XZS82XY1QP',\n",
       "  'line_items': [{'uid': 'vM0CBSAwJG9zRaeBoOZxbD',\n",
       "    'catalog_object_id': 'QXCVMRPLR46NRMAN326LPQVY',\n",
       "    'catalog_version': 1694394690403,\n",
       "    'quantity': '1',\n",
       "    'name': 'Croissant',\n",
       "    'variation_name': 'Regular',\n",
       "    'base_price_money': {'amount': 375, 'currency': 'USD'},\n",
       "    'gross_sales_money': {'amount': 375, 'currency': 'USD'},\n",
       "    'total_tax_money': {'amount': 0, 'currency': 'USD'},\n",
       "    'total_discount_money': {'amount': 0, 'currency': 'USD'},\n",
       "    'total_money': {'amount': 375, 'currency': 'USD'},\n",
       "    'variation_total_price_money': {'amount': 375, 'currency': 'USD'},\n",
       "    'item_type': 'ITEM',\n",
       "    'total_service_charge_money': {'amount': 0, 'currency': 'USD'}}],\n",
       "  'created_at': '2023-09-11T01:33:06.892Z',\n",
       "  'updated_at': '2023-09-11T01:33:07.784Z',\n",
       "  'state': 'OPEN',\n",
       "  'version': 4,\n",
       "  'total_tax_money': {'amount': 0, 'currency': 'USD'},\n",
       "  'total_discount_money': {'amount': 0, 'currency': 'USD'},\n",
       "  'total_tip_money': {'amount': 0, 'currency': 'USD'},\n",
       "  'total_money': {'amount': 375, 'currency': 'USD'},\n",
       "  'total_service_charge_money': {'amount': 0, 'currency': 'USD'},\n",
       "  'net_amounts': {'total_money': {'amount': 375, 'currency': 'USD'},\n",
       "   'tax_money': {'amount': 0, 'currency': 'USD'},\n",
       "   'discount_money': {'amount': 0, 'currency': 'USD'},\n",
       "   'tip_money': {'amount': 0, 'currency': 'USD'},\n",
       "   'service_charge_money': {'amount': 0, 'currency': 'USD'}},\n",
       "  'source': {'name': 'Sandbox for sq0idp-wbdRN2PA9P-8vSPiGU--5w'},\n",
       "  'net_amount_due_money': {'amount': 375, 'currency': 'USD'}},\n",
       " {'id': '35gVxVXkWdWou4DRJUXU6bffLGDZY',\n",
       "  'location_id': 'LV2XZS82XY1QP',\n",
       "  'line_items': [{'uid': 'vM0CBSAwJG9zRaeBoOZxbD',\n",
       "    'catalog_object_id': 'QXCVMRPLR46NRMAN326LPQVY',\n",
       "    'catalog_version': 1694394690403,\n",
       "    'quantity': '1',\n",
       "    'name': 'Croissant',\n",
       "    'variation_name': 'Regular',\n",
       "    'base_price_money': {'amount': 375, 'currency': 'USD'},\n",
       "    'gross_sales_money': {'amount': 375, 'currency': 'USD'},\n",
       "    'total_tax_money': {'amount': 0, 'currency': 'USD'},\n",
       "    'total_discount_money': {'amount': 0, 'currency': 'USD'},\n",
       "    'total_money': {'amount': 375, 'currency': 'USD'},\n",
       "    'variation_total_price_money': {'amount': 375, 'currency': 'USD'},\n",
       "    'item_type': 'ITEM',\n",
       "    'total_service_charge_money': {'amount': 0, 'currency': 'USD'}}],\n",
       "  'created_at': '2023-09-11T01:24:12.881Z',\n",
       "  'updated_at': '2023-09-11T01:33:05.996Z',\n",
       "  'state': 'DRAFT',\n",
       "  'version': 2,\n",
       "  'total_tax_money': {'amount': 0, 'currency': 'USD'},\n",
       "  'total_discount_money': {'amount': 0, 'currency': 'USD'},\n",
       "  'total_tip_money': {'amount': 0, 'currency': 'USD'},\n",
       "  'total_money': {'amount': 375, 'currency': 'USD'},\n",
       "  'total_service_charge_money': {'amount': 0, 'currency': 'USD'},\n",
       "  'net_amounts': {'total_money': {'amount': 375, 'currency': 'USD'},\n",
       "   'tax_money': {'amount': 0, 'currency': 'USD'},\n",
       "   'discount_money': {'amount': 0, 'currency': 'USD'},\n",
       "   'tip_money': {'amount': 0, 'currency': 'USD'},\n",
       "   'service_charge_money': {'amount': 0, 'currency': 'USD'}},\n",
       "  'source': {'name': 'Sandbox for sq0idp-wbdRN2PA9P-8vSPiGU--5w'},\n",
       "  'net_amount_due_money': {'amount': 375, 'currency': 'USD'}},\n",
       " {'id': 'VUS3l0ra1oLrs1G9UcGKctmZbLNZY',\n",
       "  'location_id': 'LV2XZS82XY1QP',\n",
       "  'line_items': [{'uid': 'G6Q1kFXBeiZEO5aAqANN6C',\n",
       "    'catalog_object_id': 'QXCVMRPLR46NRMAN326LPQVY',\n",
       "    'catalog_version': 1694383794503,\n",
       "    'quantity': '1',\n",
       "    'name': 'Croissant',\n",
       "    'variation_name': 'Regular',\n",
       "    'base_price_money': {'amount': 375, 'currency': 'USD'},\n",
       "    'gross_sales_money': {'amount': 375, 'currency': 'USD'},\n",
       "    'total_tax_money': {'amount': 0, 'currency': 'USD'},\n",
       "    'total_discount_money': {'amount': 0, 'currency': 'USD'},\n",
       "    'total_money': {'amount': 375, 'currency': 'USD'},\n",
       "    'variation_total_price_money': {'amount': 375, 'currency': 'USD'},\n",
       "    'item_type': 'ITEM',\n",
       "    'total_service_charge_money': {'amount': 0, 'currency': 'USD'}}],\n",
       "  'created_at': '2023-09-11T00:27:53.013Z',\n",
       "  'updated_at': '2023-09-11T00:27:53.013Z',\n",
       "  'state': 'DRAFT',\n",
       "  'version': 1,\n",
       "  'total_tax_money': {'amount': 0, 'currency': 'USD'},\n",
       "  'total_discount_money': {'amount': 0, 'currency': 'USD'},\n",
       "  'total_tip_money': {'amount': 0, 'currency': 'USD'},\n",
       "  'total_money': {'amount': 375, 'currency': 'USD'},\n",
       "  'total_service_charge_money': {'amount': 0, 'currency': 'USD'},\n",
       "  'net_amounts': {'total_money': {'amount': 375, 'currency': 'USD'},\n",
       "   'tax_money': {'amount': 0, 'currency': 'USD'},\n",
       "   'discount_money': {'amount': 0, 'currency': 'USD'},\n",
       "   'tip_money': {'amount': 0, 'currency': 'USD'},\n",
       "   'service_charge_money': {'amount': 0, 'currency': 'USD'}},\n",
       "  'source': {'name': 'Sandbox for sq0idp-wbdRN2PA9P-8vSPiGU--5w'},\n",
       "  'net_amount_due_money': {'amount': 375, 'currency': 'USD'}},\n",
       " {'id': 'FU6BBIb5lgNN4ezJo8YYVGBor0CZY',\n",
       "  'location_id': 'LV2XZS82XY1QP',\n",
       "  'line_items': [{'uid': 'mkzqh3WLSJkpmjF3jiMaJ',\n",
       "    'catalog_object_id': 'QU2JOEL4HG64KCTGLUSLFUK6',\n",
       "    'catalog_version': 1694225358547,\n",
       "    'quantity': '5',\n",
       "    'name': 'Tea',\n",
       "    'variation_name': 'Honey Lemon',\n",
       "    'base_price_money': {'amount': 200, 'currency': 'USD'},\n",
       "    'gross_sales_money': {'amount': 1000, 'currency': 'USD'},\n",
       "    'total_tax_money': {'amount': 100, 'currency': 'USD'},\n",
       "    'total_discount_money': {'amount': 0, 'currency': 'USD'},\n",
       "    'total_money': {'amount': 1100, 'currency': 'USD'},\n",
       "    'variation_total_price_money': {'amount': 1000, 'currency': 'USD'},\n",
       "    'applied_taxes': [{'uid': 'lCw1SLSfOwyj56wWUKXaYB',\n",
       "      'tax_uid': 'sales_tax',\n",
       "      'applied_money': {'amount': 100, 'currency': 'USD'}}],\n",
       "    'item_type': 'ITEM',\n",
       "    'total_service_charge_money': {'amount': 0, 'currency': 'USD'}}],\n",
       "  'taxes': [{'uid': 'sales_tax',\n",
       "    'catalog_object_id': 'G6WSJ5RQDYVBKO5Z6PQH3WJJ',\n",
       "    'catalog_version': 1694225358547,\n",
       "    'name': 'Sales tax',\n",
       "    'percentage': '10.0',\n",
       "    'type': 'ADDITIVE',\n",
       "    'applied_money': {'amount': 100, 'currency': 'USD'},\n",
       "    'scope': 'ORDER'}],\n",
       "  'created_at': '2023-09-09T02:09:50.182Z',\n",
       "  'updated_at': '2023-09-09T02:09:50.182Z',\n",
       "  'state': 'OPEN',\n",
       "  'version': 1,\n",
       "  'reference_id': 'GRAPHQL-SAMPLE-APP',\n",
       "  'total_tax_money': {'amount': 100, 'currency': 'USD'},\n",
       "  'total_discount_money': {'amount': 0, 'currency': 'USD'},\n",
       "  'total_tip_money': {'amount': 0, 'currency': 'USD'},\n",
       "  'total_money': {'amount': 1100, 'currency': 'USD'},\n",
       "  'total_service_charge_money': {'amount': 0, 'currency': 'USD'},\n",
       "  'net_amounts': {'total_money': {'amount': 1100, 'currency': 'USD'},\n",
       "   'tax_money': {'amount': 100, 'currency': 'USD'},\n",
       "   'discount_money': {'amount': 0, 'currency': 'USD'},\n",
       "   'tip_money': {'amount': 0, 'currency': 'USD'},\n",
       "   'service_charge_money': {'amount': 0, 'currency': 'USD'}},\n",
       "  'source': {'name': 'GRAPHQL-SAMPLE-APP'},\n",
       "  'customer_id': 'VK09BGAVBNB1T5F4530K163W5M',\n",
       "  'net_amount_due_money': {'amount': 1100, 'currency': 'USD'}},\n",
       " {'id': 'TtZ4vOJa0tKIRfUTDOPIVc9y8kSZY',\n",
       "  'location_id': 'LV2XZS82XY1QP',\n",
       "  'line_items': [{'uid': 'zF2o4RSnprTcKLDxZrAa7',\n",
       "    'catalog_object_id': 'M5XGQR3VGKXQRLU5PCI3KH3C',\n",
       "    'catalog_version': 1694225358547,\n",
       "    'quantity': '4',\n",
       "    'name': 'Coffee',\n",
       "    'variation_name': 'Extra Large',\n",
       "    'base_price_money': {'amount': 219, 'currency': 'USD'},\n",
       "    'gross_sales_money': {'amount': 876, 'currency': 'USD'},\n",
       "    'total_tax_money': {'amount': 88, 'currency': 'USD'},\n",
       "    'total_discount_money': {'amount': 0, 'currency': 'USD'},\n",
       "    'total_money': {'amount': 964, 'currency': 'USD'},\n",
       "    'variation_total_price_money': {'amount': 876, 'currency': 'USD'},\n",
       "    'applied_taxes': [{'uid': 'SXMc8rqRAqkgLTLYe2l8gB',\n",
       "      'tax_uid': 'sales_tax',\n",
       "      'applied_money': {'amount': 88, 'currency': 'USD'}}],\n",
       "    'item_type': 'ITEM',\n",
       "    'total_service_charge_money': {'amount': 0, 'currency': 'USD'}}],\n",
       "  'taxes': [{'uid': 'sales_tax',\n",
       "    'catalog_object_id': 'G6WSJ5RQDYVBKO5Z6PQH3WJJ',\n",
       "    'catalog_version': 1694225358547,\n",
       "    'name': 'Sales tax',\n",
       "    'percentage': '10.0',\n",
       "    'type': 'ADDITIVE',\n",
       "    'applied_money': {'amount': 88, 'currency': 'USD'},\n",
       "    'scope': 'ORDER'}],\n",
       "  'created_at': '2023-09-09T02:09:49.475Z',\n",
       "  'updated_at': '2023-09-09T02:09:49.475Z',\n",
       "  'state': 'OPEN',\n",
       "  'version': 1,\n",
       "  'reference_id': 'GRAPHQL-SAMPLE-APP',\n",
       "  'total_tax_money': {'amount': 88, 'currency': 'USD'},\n",
       "  'total_discount_money': {'amount': 0, 'currency': 'USD'},\n",
       "  'total_tip_money': {'amount': 0, 'currency': 'USD'},\n",
       "  'total_money': {'amount': 964, 'currency': 'USD'},\n",
       "  'total_service_charge_money': {'amount': 0, 'currency': 'USD'},\n",
       "  'net_amounts': {'total_money': {'amount': 964, 'currency': 'USD'},\n",
       "   'tax_money': {'amount': 88, 'currency': 'USD'},\n",
       "   'discount_money': {'amount': 0, 'currency': 'USD'},\n",
       "   'tip_money': {'amount': 0, 'currency': 'USD'},\n",
       "   'service_charge_money': {'amount': 0, 'currency': 'USD'}},\n",
       "  'source': {'name': 'GRAPHQL-SAMPLE-APP'},\n",
       "  'customer_id': '1P0ZY96849H446231JNDH0V97R',\n",
       "  'net_amount_due_money': {'amount': 964, 'currency': 'USD'}}]"
      ]
     },
     "execution_count": 13,
     "metadata": {},
     "output_type": "execute_result"
    }
   ],
   "source": [
    "batch_orders_list"
   ]
  },
  {
   "cell_type": "markdown",
   "metadata": {},
   "source": [
    "### Orders dataframe"
   ]
  },
  {
   "cell_type": "code",
   "execution_count": 14,
   "metadata": {},
   "outputs": [
    {
     "data": {
      "text/html": [
       "<div>\n",
       "<style scoped>\n",
       "    .dataframe tbody tr th:only-of-type {\n",
       "        vertical-align: middle;\n",
       "    }\n",
       "\n",
       "    .dataframe tbody tr th {\n",
       "        vertical-align: top;\n",
       "    }\n",
       "\n",
       "    .dataframe thead th {\n",
       "        text-align: right;\n",
       "    }\n",
       "</style>\n",
       "<table border=\"1\" class=\"dataframe\">\n",
       "  <thead>\n",
       "    <tr style=\"text-align: right;\">\n",
       "      <th></th>\n",
       "      <th>id</th>\n",
       "      <th>location_id</th>\n",
       "      <th>created_at</th>\n",
       "      <th>updated_at</th>\n",
       "      <th>state</th>\n",
       "      <th>version</th>\n",
       "      <th>net_amounts</th>\n",
       "      <th>customer_id</th>\n",
       "      <th>cat_obj_id</th>\n",
       "    </tr>\n",
       "  </thead>\n",
       "  <tbody>\n",
       "    <tr>\n",
       "      <th>0</th>\n",
       "      <td>5svy0EhkF9zMrNOu65PHysIT1CgZY</td>\n",
       "      <td>LV2XZS82XY1QP</td>\n",
       "      <td>2023-09-11T01:33:06.892Z</td>\n",
       "      <td>2023-09-11T01:33:07.784Z</td>\n",
       "      <td>OPEN</td>\n",
       "      <td>4</td>\n",
       "      <td>{'total_money': {'amount': 375, 'currency': 'U...</td>\n",
       "      <td>None</td>\n",
       "      <td>QXCVMRPLR46NRMAN326LPQVY</td>\n",
       "    </tr>\n",
       "    <tr>\n",
       "      <th>1</th>\n",
       "      <td>35gVxVXkWdWou4DRJUXU6bffLGDZY</td>\n",
       "      <td>LV2XZS82XY1QP</td>\n",
       "      <td>2023-09-11T01:24:12.881Z</td>\n",
       "      <td>2023-09-11T01:33:05.996Z</td>\n",
       "      <td>DRAFT</td>\n",
       "      <td>2</td>\n",
       "      <td>{'total_money': {'amount': 375, 'currency': 'U...</td>\n",
       "      <td>None</td>\n",
       "      <td>QXCVMRPLR46NRMAN326LPQVY</td>\n",
       "    </tr>\n",
       "    <tr>\n",
       "      <th>2</th>\n",
       "      <td>VUS3l0ra1oLrs1G9UcGKctmZbLNZY</td>\n",
       "      <td>LV2XZS82XY1QP</td>\n",
       "      <td>2023-09-11T00:27:53.013Z</td>\n",
       "      <td>2023-09-11T00:27:53.013Z</td>\n",
       "      <td>DRAFT</td>\n",
       "      <td>1</td>\n",
       "      <td>{'total_money': {'amount': 375, 'currency': 'U...</td>\n",
       "      <td>None</td>\n",
       "      <td>QXCVMRPLR46NRMAN326LPQVY</td>\n",
       "    </tr>\n",
       "    <tr>\n",
       "      <th>3</th>\n",
       "      <td>FU6BBIb5lgNN4ezJo8YYVGBor0CZY</td>\n",
       "      <td>LV2XZS82XY1QP</td>\n",
       "      <td>2023-09-09T02:09:50.182Z</td>\n",
       "      <td>2023-09-09T02:09:50.182Z</td>\n",
       "      <td>OPEN</td>\n",
       "      <td>1</td>\n",
       "      <td>{'total_money': {'amount': 1100, 'currency': '...</td>\n",
       "      <td>VK09BGAVBNB1T5F4530K163W5M</td>\n",
       "      <td>QU2JOEL4HG64KCTGLUSLFUK6</td>\n",
       "    </tr>\n",
       "    <tr>\n",
       "      <th>4</th>\n",
       "      <td>TtZ4vOJa0tKIRfUTDOPIVc9y8kSZY</td>\n",
       "      <td>LV2XZS82XY1QP</td>\n",
       "      <td>2023-09-09T02:09:49.475Z</td>\n",
       "      <td>2023-09-09T02:09:49.475Z</td>\n",
       "      <td>OPEN</td>\n",
       "      <td>1</td>\n",
       "      <td>{'total_money': {'amount': 964, 'currency': 'U...</td>\n",
       "      <td>1P0ZY96849H446231JNDH0V97R</td>\n",
       "      <td>M5XGQR3VGKXQRLU5PCI3KH3C</td>\n",
       "    </tr>\n",
       "  </tbody>\n",
       "</table>\n",
       "</div>"
      ],
      "text/plain": [
       "                              id    location_id                created_at  \\\n",
       "0  5svy0EhkF9zMrNOu65PHysIT1CgZY  LV2XZS82XY1QP  2023-09-11T01:33:06.892Z   \n",
       "1  35gVxVXkWdWou4DRJUXU6bffLGDZY  LV2XZS82XY1QP  2023-09-11T01:24:12.881Z   \n",
       "2  VUS3l0ra1oLrs1G9UcGKctmZbLNZY  LV2XZS82XY1QP  2023-09-11T00:27:53.013Z   \n",
       "3  FU6BBIb5lgNN4ezJo8YYVGBor0CZY  LV2XZS82XY1QP  2023-09-09T02:09:50.182Z   \n",
       "4  TtZ4vOJa0tKIRfUTDOPIVc9y8kSZY  LV2XZS82XY1QP  2023-09-09T02:09:49.475Z   \n",
       "\n",
       "                 updated_at  state  version  \\\n",
       "0  2023-09-11T01:33:07.784Z   OPEN        4   \n",
       "1  2023-09-11T01:33:05.996Z  DRAFT        2   \n",
       "2  2023-09-11T00:27:53.013Z  DRAFT        1   \n",
       "3  2023-09-09T02:09:50.182Z   OPEN        1   \n",
       "4  2023-09-09T02:09:49.475Z   OPEN        1   \n",
       "\n",
       "                                         net_amounts  \\\n",
       "0  {'total_money': {'amount': 375, 'currency': 'U...   \n",
       "1  {'total_money': {'amount': 375, 'currency': 'U...   \n",
       "2  {'total_money': {'amount': 375, 'currency': 'U...   \n",
       "3  {'total_money': {'amount': 1100, 'currency': '...   \n",
       "4  {'total_money': {'amount': 964, 'currency': 'U...   \n",
       "\n",
       "                  customer_id                cat_obj_id  \n",
       "0                        None  QXCVMRPLR46NRMAN326LPQVY  \n",
       "1                        None  QXCVMRPLR46NRMAN326LPQVY  \n",
       "2                        None  QXCVMRPLR46NRMAN326LPQVY  \n",
       "3  VK09BGAVBNB1T5F4530K163W5M  QU2JOEL4HG64KCTGLUSLFUK6  \n",
       "4  1P0ZY96849H446231JNDH0V97R  M5XGQR3VGKXQRLU5PCI3KH3C  "
      ]
     },
     "execution_count": 14,
     "metadata": {},
     "output_type": "execute_result"
    }
   ],
   "source": [
    "# first_order = batch_orders_list[0]\n",
    "order_list = []\n",
    "\n",
    "for order in batch_orders_list:\n",
    "    id = order[\"id\"]\n",
    "    location_id = order[\"location_id\"]\n",
    "    created_at = order[\"created_at\"]\n",
    "    updated_at = order[\"updated_at\"]\n",
    "    state = order[\"state\"]\n",
    "    version = order[\"version\"]\n",
    "    net_amounts = order[\"net_amounts\"]\n",
    "    customer_id = order.get(\"customer_id\")\n",
    "    line_items = order[\"line_items\"]\n",
    "\n",
    "    cat_obj_id_list = []\n",
    "    for item in line_items:\n",
    "        # print(item)\n",
    "        cat_obj_id_list.append(item[\"catalog_object_id\"])\n",
    "\n",
    "    order_list.append((id, location_id, created_at, updated_at, state, version, net_amounts, \n",
    "                       customer_id, cat_obj_id_list))\n",
    "\n",
    "# create DataFrame using data\n",
    "order_df = pd.DataFrame(order_list, columns =[\"id\", \"location_id\", \"created_at\", \"updated_at\", \n",
    "                                              \"state\", \"version\", \"net_amounts\", \"customer_id\", \"cat_obj_id\"])\n",
    "\n",
    "order_df = order_df.explode(\"cat_obj_id\")\n",
    "order_df.to_csv(\"./graph_data/orders.csv\", index=False)\n",
    "order_df.head()"
   ]
  },
  {
   "cell_type": "markdown",
   "metadata": {},
   "source": [
    "### Order x Location relationship"
   ]
  },
  {
   "cell_type": "code",
   "execution_count": 15,
   "metadata": {},
   "outputs": [
    {
     "data": {
      "text/html": [
       "<div>\n",
       "<style scoped>\n",
       "    .dataframe tbody tr th:only-of-type {\n",
       "        vertical-align: middle;\n",
       "    }\n",
       "\n",
       "    .dataframe tbody tr th {\n",
       "        vertical-align: top;\n",
       "    }\n",
       "\n",
       "    .dataframe thead th {\n",
       "        text-align: right;\n",
       "    }\n",
       "</style>\n",
       "<table border=\"1\" class=\"dataframe\">\n",
       "  <thead>\n",
       "    <tr style=\"text-align: right;\">\n",
       "      <th></th>\n",
       "      <th>id</th>\n",
       "      <th>location_id</th>\n",
       "    </tr>\n",
       "  </thead>\n",
       "  <tbody>\n",
       "    <tr>\n",
       "      <th>0</th>\n",
       "      <td>5svy0EhkF9zMrNOu65PHysIT1CgZY</td>\n",
       "      <td>LV2XZS82XY1QP</td>\n",
       "    </tr>\n",
       "    <tr>\n",
       "      <th>1</th>\n",
       "      <td>35gVxVXkWdWou4DRJUXU6bffLGDZY</td>\n",
       "      <td>LV2XZS82XY1QP</td>\n",
       "    </tr>\n",
       "    <tr>\n",
       "      <th>2</th>\n",
       "      <td>VUS3l0ra1oLrs1G9UcGKctmZbLNZY</td>\n",
       "      <td>LV2XZS82XY1QP</td>\n",
       "    </tr>\n",
       "    <tr>\n",
       "      <th>3</th>\n",
       "      <td>FU6BBIb5lgNN4ezJo8YYVGBor0CZY</td>\n",
       "      <td>LV2XZS82XY1QP</td>\n",
       "    </tr>\n",
       "    <tr>\n",
       "      <th>4</th>\n",
       "      <td>TtZ4vOJa0tKIRfUTDOPIVc9y8kSZY</td>\n",
       "      <td>LV2XZS82XY1QP</td>\n",
       "    </tr>\n",
       "  </tbody>\n",
       "</table>\n",
       "</div>"
      ],
      "text/plain": [
       "                              id    location_id\n",
       "0  5svy0EhkF9zMrNOu65PHysIT1CgZY  LV2XZS82XY1QP\n",
       "1  35gVxVXkWdWou4DRJUXU6bffLGDZY  LV2XZS82XY1QP\n",
       "2  VUS3l0ra1oLrs1G9UcGKctmZbLNZY  LV2XZS82XY1QP\n",
       "3  FU6BBIb5lgNN4ezJo8YYVGBor0CZY  LV2XZS82XY1QP\n",
       "4  TtZ4vOJa0tKIRfUTDOPIVc9y8kSZY  LV2XZS82XY1QP"
      ]
     },
     "execution_count": 15,
     "metadata": {},
     "output_type": "execute_result"
    }
   ],
   "source": [
    "order_x_location_df = order_df[[\"id\", \"location_id\"]]\n",
    "order_x_location_df = order_x_location_df.drop_duplicates()\n",
    "\n",
    "order_x_location_df.to_csv(\"./graph_data/order_x_location.csv\", index=False)\n",
    "order_x_location_df"
   ]
  },
  {
   "cell_type": "markdown",
   "metadata": {},
   "source": [
    "### Order x Customer relationship"
   ]
  },
  {
   "cell_type": "code",
   "execution_count": 16,
   "metadata": {},
   "outputs": [
    {
     "data": {
      "text/html": [
       "<div>\n",
       "<style scoped>\n",
       "    .dataframe tbody tr th:only-of-type {\n",
       "        vertical-align: middle;\n",
       "    }\n",
       "\n",
       "    .dataframe tbody tr th {\n",
       "        vertical-align: top;\n",
       "    }\n",
       "\n",
       "    .dataframe thead th {\n",
       "        text-align: right;\n",
       "    }\n",
       "</style>\n",
       "<table border=\"1\" class=\"dataframe\">\n",
       "  <thead>\n",
       "    <tr style=\"text-align: right;\">\n",
       "      <th></th>\n",
       "      <th>id</th>\n",
       "      <th>customer_id</th>\n",
       "    </tr>\n",
       "  </thead>\n",
       "  <tbody>\n",
       "    <tr>\n",
       "      <th>0</th>\n",
       "      <td>5svy0EhkF9zMrNOu65PHysIT1CgZY</td>\n",
       "      <td>None</td>\n",
       "    </tr>\n",
       "    <tr>\n",
       "      <th>1</th>\n",
       "      <td>35gVxVXkWdWou4DRJUXU6bffLGDZY</td>\n",
       "      <td>None</td>\n",
       "    </tr>\n",
       "    <tr>\n",
       "      <th>2</th>\n",
       "      <td>VUS3l0ra1oLrs1G9UcGKctmZbLNZY</td>\n",
       "      <td>None</td>\n",
       "    </tr>\n",
       "    <tr>\n",
       "      <th>3</th>\n",
       "      <td>FU6BBIb5lgNN4ezJo8YYVGBor0CZY</td>\n",
       "      <td>VK09BGAVBNB1T5F4530K163W5M</td>\n",
       "    </tr>\n",
       "    <tr>\n",
       "      <th>4</th>\n",
       "      <td>TtZ4vOJa0tKIRfUTDOPIVc9y8kSZY</td>\n",
       "      <td>1P0ZY96849H446231JNDH0V97R</td>\n",
       "    </tr>\n",
       "  </tbody>\n",
       "</table>\n",
       "</div>"
      ],
      "text/plain": [
       "                              id                 customer_id\n",
       "0  5svy0EhkF9zMrNOu65PHysIT1CgZY                        None\n",
       "1  35gVxVXkWdWou4DRJUXU6bffLGDZY                        None\n",
       "2  VUS3l0ra1oLrs1G9UcGKctmZbLNZY                        None\n",
       "3  FU6BBIb5lgNN4ezJo8YYVGBor0CZY  VK09BGAVBNB1T5F4530K163W5M\n",
       "4  TtZ4vOJa0tKIRfUTDOPIVc9y8kSZY  1P0ZY96849H446231JNDH0V97R"
      ]
     },
     "execution_count": 16,
     "metadata": {},
     "output_type": "execute_result"
    }
   ],
   "source": [
    "order_x_cust_df = order_df[[\"id\", \"customer_id\"]]\n",
    "order_x_cust_df = order_x_cust_df.drop_duplicates()\n",
    "\n",
    "order_x_cust_df.to_csv(\"./graph_data/order_x_cust.csv\", index=False)\n",
    "order_x_cust_df"
   ]
  },
  {
   "cell_type": "markdown",
   "metadata": {},
   "source": [
    "### Order x Category relationship"
   ]
  },
  {
   "cell_type": "code",
   "execution_count": 17,
   "metadata": {},
   "outputs": [
    {
     "data": {
      "text/html": [
       "<div>\n",
       "<style scoped>\n",
       "    .dataframe tbody tr th:only-of-type {\n",
       "        vertical-align: middle;\n",
       "    }\n",
       "\n",
       "    .dataframe tbody tr th {\n",
       "        vertical-align: top;\n",
       "    }\n",
       "\n",
       "    .dataframe thead th {\n",
       "        text-align: right;\n",
       "    }\n",
       "</style>\n",
       "<table border=\"1\" class=\"dataframe\">\n",
       "  <thead>\n",
       "    <tr style=\"text-align: right;\">\n",
       "      <th></th>\n",
       "      <th>id</th>\n",
       "      <th>cat_obj_id</th>\n",
       "    </tr>\n",
       "  </thead>\n",
       "  <tbody>\n",
       "    <tr>\n",
       "      <th>0</th>\n",
       "      <td>5svy0EhkF9zMrNOu65PHysIT1CgZY</td>\n",
       "      <td>QXCVMRPLR46NRMAN326LPQVY</td>\n",
       "    </tr>\n",
       "    <tr>\n",
       "      <th>1</th>\n",
       "      <td>35gVxVXkWdWou4DRJUXU6bffLGDZY</td>\n",
       "      <td>QXCVMRPLR46NRMAN326LPQVY</td>\n",
       "    </tr>\n",
       "    <tr>\n",
       "      <th>2</th>\n",
       "      <td>VUS3l0ra1oLrs1G9UcGKctmZbLNZY</td>\n",
       "      <td>QXCVMRPLR46NRMAN326LPQVY</td>\n",
       "    </tr>\n",
       "    <tr>\n",
       "      <th>3</th>\n",
       "      <td>FU6BBIb5lgNN4ezJo8YYVGBor0CZY</td>\n",
       "      <td>QU2JOEL4HG64KCTGLUSLFUK6</td>\n",
       "    </tr>\n",
       "    <tr>\n",
       "      <th>4</th>\n",
       "      <td>TtZ4vOJa0tKIRfUTDOPIVc9y8kSZY</td>\n",
       "      <td>M5XGQR3VGKXQRLU5PCI3KH3C</td>\n",
       "    </tr>\n",
       "  </tbody>\n",
       "</table>\n",
       "</div>"
      ],
      "text/plain": [
       "                              id                cat_obj_id\n",
       "0  5svy0EhkF9zMrNOu65PHysIT1CgZY  QXCVMRPLR46NRMAN326LPQVY\n",
       "1  35gVxVXkWdWou4DRJUXU6bffLGDZY  QXCVMRPLR46NRMAN326LPQVY\n",
       "2  VUS3l0ra1oLrs1G9UcGKctmZbLNZY  QXCVMRPLR46NRMAN326LPQVY\n",
       "3  FU6BBIb5lgNN4ezJo8YYVGBor0CZY  QU2JOEL4HG64KCTGLUSLFUK6\n",
       "4  TtZ4vOJa0tKIRfUTDOPIVc9y8kSZY  M5XGQR3VGKXQRLU5PCI3KH3C"
      ]
     },
     "execution_count": 17,
     "metadata": {},
     "output_type": "execute_result"
    }
   ],
   "source": [
    "order_x_cat_obj_df = order_df[[\"id\", \"cat_obj_id\"]]\n",
    "order_x_cat_obj_df = order_x_cat_obj_df.drop_duplicates()\n",
    "\n",
    "order_x_cat_obj_df.to_csv(\"./graph_data/order_x_cat_obj.csv\", index=False)\n",
    "order_x_cat_obj_df"
   ]
  },
  {
   "cell_type": "code",
   "execution_count": null,
   "metadata": {},
   "outputs": [],
   "source": []
  }
 ],
 "metadata": {
  "kernelspec": {
   "display_name": "Python 3",
   "language": "python",
   "name": "python3"
  },
  "language_info": {
   "codemirror_mode": {
    "name": "ipython",
    "version": 3
   },
   "file_extension": ".py",
   "mimetype": "text/x-python",
   "name": "python",
   "nbconvert_exporter": "python",
   "pygments_lexer": "ipython3",
   "version": "3.10.0"
  },
  "orig_nbformat": 4
 },
 "nbformat": 4,
 "nbformat_minor": 2
}

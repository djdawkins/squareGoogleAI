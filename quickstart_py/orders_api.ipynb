{
 "cells": [
  {
   "cell_type": "code",
   "execution_count": 14,
   "metadata": {},
   "outputs": [
    {
     "data": {
      "text/plain": [
       "True"
      ]
     },
     "execution_count": 14,
     "metadata": {},
     "output_type": "execute_result"
    }
   ],
   "source": [
    "from square.client import Client\n",
    "import os\n",
    "from dotenv import load_dotenv\n",
    "import pandas as pd\n",
    "load_dotenv()"
   ]
  },
  {
   "cell_type": "code",
   "execution_count": 3,
   "metadata": {},
   "outputs": [],
   "source": [
    "client = Client(\n",
    "    access_token=os.environ['SQUARE_ACCESS_TOKEN'],\n",
    "    environment='sandbox')\n",
    "\n",
    "orders_api = client.orders"
   ]
  },
  {
   "cell_type": "code",
   "execution_count": 4,
   "metadata": {},
   "outputs": [
    {
     "name": "stdout",
     "output_type": "stream",
     "text": [
      "{'order_entries': [{'order_id': 'FU6BBIb5lgNN4ezJo8YYVGBor0CZY', 'version': 1, 'location_id': 'LV2XZS82XY1QP'}, {'order_id': 'TtZ4vOJa0tKIRfUTDOPIVc9y8kSZY', 'version': 1, 'location_id': 'LV2XZS82XY1QP'}, {'order_id': 'dk45czlbXWqudbAMaZ6MUQWaXMKZY', 'version': 1, 'location_id': 'LV2XZS82XY1QP'}, {'order_id': '9M4fYq5tBgDKgDsWNPo7aTaUZOVZY', 'version': 1, 'location_id': 'LV2XZS82XY1QP'}, {'order_id': 'LdHKfiwB6ulvjs8O9TPyMGxiKwLZY', 'version': 1, 'location_id': 'LV2XZS82XY1QP'}], 'cursor': 'waIXrp8iL7fXIaEaqPELLGOJAi1DOysrQEpxwQ98kSvKz911BvwaAcXCMBr7tpf9qvfH2A9xaLKun3AFuGRXxJIkb83Rq3RVIoodlZ14SIEpotmZCo31jG9glUZyH9QIaeoEmd3HkjY8w7McyvwoQcdwidGvLwQxcA7hpvp58sAj2yRSwBLgMGYv72yfm4qCfX2xTemzEkEHBriwkHbzQvRtFA5YAAYaMr7yNW62aOXS4qy2swKPrg66NndTMknOSyMcGhciMsCAoz1DfHBuUnkhvf6X2wdoq6jIRrK5n2kyBLyHX5ves9Dl9pbYYO'}\n"
     ]
    }
   ],
   "source": [
    "# Search orders\n",
    "body = {\n",
    "    'location_ids': [\n",
    "        'LV2XZS82XY1QP'\n",
    "    ],\n",
    "    'query': {\n",
    "        'filter': {\n",
    "        }\n",
    "    },\n",
    "    'limit': 5,\n",
    "    'return_entries': True\n",
    "}\n",
    "\n",
    "result = orders_api.search_orders(body)\n",
    "\n",
    "if result.is_success():\n",
    "    print(result.body)\n",
    "elif result.is_error():\n",
    "    print(result.errors)\n"
   ]
  },
  {
   "cell_type": "code",
   "execution_count": 5,
   "metadata": {},
   "outputs": [
    {
     "name": "stdout",
     "output_type": "stream",
     "text": [
      "5\n"
     ]
    },
    {
     "data": {
      "text/plain": [
       "['FU6BBIb5lgNN4ezJo8YYVGBor0CZY',\n",
       " 'TtZ4vOJa0tKIRfUTDOPIVc9y8kSZY',\n",
       " 'dk45czlbXWqudbAMaZ6MUQWaXMKZY',\n",
       " '9M4fYq5tBgDKgDsWNPo7aTaUZOVZY',\n",
       " 'LdHKfiwB6ulvjs8O9TPyMGxiKwLZY']"
      ]
     },
     "execution_count": 5,
     "metadata": {},
     "output_type": "execute_result"
    }
   ],
   "source": [
    "orders_dict = result.body\n",
    "order_entries_list = orders_dict[\"order_entries\"]\n",
    "\n",
    "print(len(order_entries_list))\n",
    "order_id_list = []\n",
    "\n",
    "for x in range(0, len(order_entries_list)):\n",
    "    order_id = order_entries_list[x][\"order_id\"]\n",
    "    order_id_list.append(order_id)\n",
    "\n",
    "order_id_list\n"
   ]
  },
  {
   "cell_type": "code",
   "execution_count": 6,
   "metadata": {},
   "outputs": [
    {
     "name": "stdout",
     "output_type": "stream",
     "text": [
      "{'orders': [{'id': 'FU6BBIb5lgNN4ezJo8YYVGBor0CZY', 'location_id': 'LV2XZS82XY1QP', 'line_items': [{'uid': 'mkzqh3WLSJkpmjF3jiMaJ', 'catalog_object_id': 'QU2JOEL4HG64KCTGLUSLFUK6', 'catalog_version': 1694225358547, 'quantity': '5', 'name': 'Tea', 'variation_name': 'Honey Lemon', 'base_price_money': {'amount': 200, 'currency': 'USD'}, 'gross_sales_money': {'amount': 1000, 'currency': 'USD'}, 'total_tax_money': {'amount': 100, 'currency': 'USD'}, 'total_discount_money': {'amount': 0, 'currency': 'USD'}, 'total_money': {'amount': 1100, 'currency': 'USD'}, 'variation_total_price_money': {'amount': 1000, 'currency': 'USD'}, 'applied_taxes': [{'uid': 'lCw1SLSfOwyj56wWUKXaYB', 'tax_uid': 'sales_tax', 'applied_money': {'amount': 100, 'currency': 'USD'}}], 'item_type': 'ITEM', 'total_service_charge_money': {'amount': 0, 'currency': 'USD'}}], 'taxes': [{'uid': 'sales_tax', 'catalog_object_id': 'G6WSJ5RQDYVBKO5Z6PQH3WJJ', 'catalog_version': 1694225358547, 'name': 'Sales tax', 'percentage': '10.0', 'type': 'ADDITIVE', 'applied_money': {'amount': 100, 'currency': 'USD'}, 'scope': 'ORDER'}], 'created_at': '2023-09-09T02:09:50.182Z', 'updated_at': '2023-09-09T02:09:50.182Z', 'state': 'OPEN', 'version': 1, 'reference_id': 'GRAPHQL-SAMPLE-APP', 'total_tax_money': {'amount': 100, 'currency': 'USD'}, 'total_discount_money': {'amount': 0, 'currency': 'USD'}, 'total_tip_money': {'amount': 0, 'currency': 'USD'}, 'total_money': {'amount': 1100, 'currency': 'USD'}, 'total_service_charge_money': {'amount': 0, 'currency': 'USD'}, 'net_amounts': {'total_money': {'amount': 1100, 'currency': 'USD'}, 'tax_money': {'amount': 100, 'currency': 'USD'}, 'discount_money': {'amount': 0, 'currency': 'USD'}, 'tip_money': {'amount': 0, 'currency': 'USD'}, 'service_charge_money': {'amount': 0, 'currency': 'USD'}}, 'source': {'name': 'GRAPHQL-SAMPLE-APP'}, 'customer_id': 'VK09BGAVBNB1T5F4530K163W5M', 'net_amount_due_money': {'amount': 1100, 'currency': 'USD'}}, {'id': 'TtZ4vOJa0tKIRfUTDOPIVc9y8kSZY', 'location_id': 'LV2XZS82XY1QP', 'line_items': [{'uid': 'zF2o4RSnprTcKLDxZrAa7', 'catalog_object_id': 'M5XGQR3VGKXQRLU5PCI3KH3C', 'catalog_version': 1694225358547, 'quantity': '4', 'name': 'Coffee', 'variation_name': 'Extra Large', 'base_price_money': {'amount': 219, 'currency': 'USD'}, 'gross_sales_money': {'amount': 876, 'currency': 'USD'}, 'total_tax_money': {'amount': 88, 'currency': 'USD'}, 'total_discount_money': {'amount': 0, 'currency': 'USD'}, 'total_money': {'amount': 964, 'currency': 'USD'}, 'variation_total_price_money': {'amount': 876, 'currency': 'USD'}, 'applied_taxes': [{'uid': 'SXMc8rqRAqkgLTLYe2l8gB', 'tax_uid': 'sales_tax', 'applied_money': {'amount': 88, 'currency': 'USD'}}], 'item_type': 'ITEM', 'total_service_charge_money': {'amount': 0, 'currency': 'USD'}}], 'taxes': [{'uid': 'sales_tax', 'catalog_object_id': 'G6WSJ5RQDYVBKO5Z6PQH3WJJ', 'catalog_version': 1694225358547, 'name': 'Sales tax', 'percentage': '10.0', 'type': 'ADDITIVE', 'applied_money': {'amount': 88, 'currency': 'USD'}, 'scope': 'ORDER'}], 'created_at': '2023-09-09T02:09:49.475Z', 'updated_at': '2023-09-09T02:09:49.475Z', 'state': 'OPEN', 'version': 1, 'reference_id': 'GRAPHQL-SAMPLE-APP', 'total_tax_money': {'amount': 88, 'currency': 'USD'}, 'total_discount_money': {'amount': 0, 'currency': 'USD'}, 'total_tip_money': {'amount': 0, 'currency': 'USD'}, 'total_money': {'amount': 964, 'currency': 'USD'}, 'total_service_charge_money': {'amount': 0, 'currency': 'USD'}, 'net_amounts': {'total_money': {'amount': 964, 'currency': 'USD'}, 'tax_money': {'amount': 88, 'currency': 'USD'}, 'discount_money': {'amount': 0, 'currency': 'USD'}, 'tip_money': {'amount': 0, 'currency': 'USD'}, 'service_charge_money': {'amount': 0, 'currency': 'USD'}}, 'source': {'name': 'GRAPHQL-SAMPLE-APP'}, 'customer_id': '1P0ZY96849H446231JNDH0V97R', 'net_amount_due_money': {'amount': 964, 'currency': 'USD'}}, {'id': 'dk45czlbXWqudbAMaZ6MUQWaXMKZY', 'location_id': 'LV2XZS82XY1QP', 'line_items': [{'uid': 'XjluSrxODSGCOOHpKXWrvC', 'catalog_object_id': 'G3USA7KKSPWD7ZZ2I2RMQIYL', 'catalog_version': 1694225358547, 'quantity': '3', 'name': 'Coffee', 'variation_name': 'Large', 'base_price_money': {'amount': 199, 'currency': 'USD'}, 'gross_sales_money': {'amount': 597, 'currency': 'USD'}, 'total_tax_money': {'amount': 60, 'currency': 'USD'}, 'total_discount_money': {'amount': 0, 'currency': 'USD'}, 'total_money': {'amount': 657, 'currency': 'USD'}, 'variation_total_price_money': {'amount': 597, 'currency': 'USD'}, 'applied_taxes': [{'uid': 'Sd3dn2DdQpUDsKnJ2ZvZ5C', 'tax_uid': 'sales_tax', 'applied_money': {'amount': 60, 'currency': 'USD'}}], 'item_type': 'ITEM', 'total_service_charge_money': {'amount': 0, 'currency': 'USD'}}], 'taxes': [{'uid': 'sales_tax', 'catalog_object_id': 'G6WSJ5RQDYVBKO5Z6PQH3WJJ', 'catalog_version': 1694225358547, 'name': 'Sales tax', 'percentage': '10.0', 'type': 'ADDITIVE', 'applied_money': {'amount': 60, 'currency': 'USD'}, 'scope': 'ORDER'}], 'created_at': '2023-09-09T02:09:48.278Z', 'updated_at': '2023-09-09T02:09:48.278Z', 'state': 'OPEN', 'version': 1, 'reference_id': 'GRAPHQL-SAMPLE-APP', 'total_tax_money': {'amount': 60, 'currency': 'USD'}, 'total_discount_money': {'amount': 0, 'currency': 'USD'}, 'total_tip_money': {'amount': 0, 'currency': 'USD'}, 'total_money': {'amount': 657, 'currency': 'USD'}, 'total_service_charge_money': {'amount': 0, 'currency': 'USD'}, 'net_amounts': {'total_money': {'amount': 657, 'currency': 'USD'}, 'tax_money': {'amount': 60, 'currency': 'USD'}, 'discount_money': {'amount': 0, 'currency': 'USD'}, 'tip_money': {'amount': 0, 'currency': 'USD'}, 'service_charge_money': {'amount': 0, 'currency': 'USD'}}, 'source': {'name': 'GRAPHQL-SAMPLE-APP'}, 'customer_id': '6WH79TC7KP6X5AYXWQWDR377TW', 'net_amount_due_money': {'amount': 657, 'currency': 'USD'}}, {'id': '9M4fYq5tBgDKgDsWNPo7aTaUZOVZY', 'location_id': 'LV2XZS82XY1QP', 'line_items': [{'uid': 'oCtFkv5MZQltxfJJs8QkP', 'catalog_object_id': 'FLXOYUKIRKSDWCSER6VW7EQZ', 'catalog_version': 1694225358547, 'quantity': '2', 'name': 'Coffee', 'variation_name': 'Medium', 'base_price_money': {'amount': 179, 'currency': 'USD'}, 'gross_sales_money': {'amount': 358, 'currency': 'USD'}, 'total_tax_money': {'amount': 36, 'currency': 'USD'}, 'total_discount_money': {'amount': 0, 'currency': 'USD'}, 'total_money': {'amount': 394, 'currency': 'USD'}, 'variation_total_price_money': {'amount': 358, 'currency': 'USD'}, 'applied_taxes': [{'uid': 'R7tUq817ep2DL86lv83UPC', 'tax_uid': 'sales_tax', 'applied_money': {'amount': 36, 'currency': 'USD'}}], 'item_type': 'ITEM', 'total_service_charge_money': {'amount': 0, 'currency': 'USD'}}], 'taxes': [{'uid': 'sales_tax', 'catalog_object_id': 'G6WSJ5RQDYVBKO5Z6PQH3WJJ', 'catalog_version': 1694225358547, 'name': 'Sales tax', 'percentage': '10.0', 'type': 'ADDITIVE', 'applied_money': {'amount': 36, 'currency': 'USD'}, 'scope': 'ORDER'}], 'created_at': '2023-09-09T02:09:47.722Z', 'updated_at': '2023-09-09T02:09:47.722Z', 'state': 'OPEN', 'version': 1, 'reference_id': 'GRAPHQL-SAMPLE-APP', 'total_tax_money': {'amount': 36, 'currency': 'USD'}, 'total_discount_money': {'amount': 0, 'currency': 'USD'}, 'total_tip_money': {'amount': 0, 'currency': 'USD'}, 'total_money': {'amount': 394, 'currency': 'USD'}, 'total_service_charge_money': {'amount': 0, 'currency': 'USD'}, 'net_amounts': {'total_money': {'amount': 394, 'currency': 'USD'}, 'tax_money': {'amount': 36, 'currency': 'USD'}, 'discount_money': {'amount': 0, 'currency': 'USD'}, 'tip_money': {'amount': 0, 'currency': 'USD'}, 'service_charge_money': {'amount': 0, 'currency': 'USD'}}, 'source': {'name': 'GRAPHQL-SAMPLE-APP'}, 'customer_id': 'MXSQ3Q1QE8M80HDTVHHJEZRF50', 'net_amount_due_money': {'amount': 394, 'currency': 'USD'}}, {'id': 'LdHKfiwB6ulvjs8O9TPyMGxiKwLZY', 'location_id': 'LV2XZS82XY1QP', 'line_items': [{'uid': 'Cf9Q1LGjrZUzCN82LL8J5B', 'catalog_object_id': 'FTJBGLEJPVXCOYXEAXKQSKGO', 'catalog_version': 1694225358547, 'quantity': '1', 'name': 'Coffee', 'variation_name': 'Small', 'base_price_money': {'amount': 159, 'currency': 'USD'}, 'gross_sales_money': {'amount': 159, 'currency': 'USD'}, 'total_tax_money': {'amount': 16, 'currency': 'USD'}, 'total_discount_money': {'amount': 0, 'currency': 'USD'}, 'total_money': {'amount': 175, 'currency': 'USD'}, 'variation_total_price_money': {'amount': 159, 'currency': 'USD'}, 'applied_taxes': [{'uid': 'Mlhq3BfrhtfDuQwt8Pvj4C', 'tax_uid': 'sales_tax', 'applied_money': {'amount': 16, 'currency': 'USD'}}], 'item_type': 'ITEM', 'total_service_charge_money': {'amount': 0, 'currency': 'USD'}}], 'taxes': [{'uid': 'sales_tax', 'catalog_object_id': 'G6WSJ5RQDYVBKO5Z6PQH3WJJ', 'catalog_version': 1694225358547, 'name': 'Sales tax', 'percentage': '10.0', 'type': 'ADDITIVE', 'applied_money': {'amount': 16, 'currency': 'USD'}, 'scope': 'ORDER'}], 'created_at': '2023-09-09T02:09:47.158Z', 'updated_at': '2023-09-09T02:09:47.158Z', 'state': 'OPEN', 'version': 1, 'reference_id': 'GRAPHQL-SAMPLE-APP', 'total_tax_money': {'amount': 16, 'currency': 'USD'}, 'total_discount_money': {'amount': 0, 'currency': 'USD'}, 'total_tip_money': {'amount': 0, 'currency': 'USD'}, 'total_money': {'amount': 175, 'currency': 'USD'}, 'total_service_charge_money': {'amount': 0, 'currency': 'USD'}, 'net_amounts': {'total_money': {'amount': 175, 'currency': 'USD'}, 'tax_money': {'amount': 16, 'currency': 'USD'}, 'discount_money': {'amount': 0, 'currency': 'USD'}, 'tip_money': {'amount': 0, 'currency': 'USD'}, 'service_charge_money': {'amount': 0, 'currency': 'USD'}}, 'source': {'name': 'GRAPHQL-SAMPLE-APP'}, 'customer_id': 'T7EM1V4A8J23ZGYNGATK07PNKR', 'net_amount_due_money': {'amount': 175, 'currency': 'USD'}}]}\n"
     ]
    }
   ],
   "source": [
    "batch_orders = client.orders.batch_retrieve_orders(\n",
    "  body = {\n",
    "    \"order_ids\": order_id_list\n",
    "  }\n",
    ")\n",
    "\n",
    "if batch_orders.is_success():\n",
    "  print(batch_orders.body)\n",
    "elif batch_orders.is_error():\n",
    "  print(batch_orders.errors)"
   ]
  },
  {
   "cell_type": "code",
   "execution_count": 7,
   "metadata": {},
   "outputs": [],
   "source": [
    "batch_orders_dict = batch_orders.body\n",
    "batch_orders_list = batch_orders_dict['orders']"
   ]
  },
  {
   "cell_type": "code",
   "execution_count": 16,
   "metadata": {},
   "outputs": [
    {
     "data": {
      "text/html": [
       "<div>\n",
       "<style scoped>\n",
       "    .dataframe tbody tr th:only-of-type {\n",
       "        vertical-align: middle;\n",
       "    }\n",
       "\n",
       "    .dataframe tbody tr th {\n",
       "        vertical-align: top;\n",
       "    }\n",
       "\n",
       "    .dataframe thead th {\n",
       "        text-align: right;\n",
       "    }\n",
       "</style>\n",
       "<table border=\"1\" class=\"dataframe\">\n",
       "  <thead>\n",
       "    <tr style=\"text-align: right;\">\n",
       "      <th></th>\n",
       "      <th>id</th>\n",
       "      <th>location_id</th>\n",
       "      <th>created_at</th>\n",
       "      <th>updated_at</th>\n",
       "      <th>state</th>\n",
       "      <th>version</th>\n",
       "      <th>net_amounts</th>\n",
       "      <th>customer_id</th>\n",
       "    </tr>\n",
       "  </thead>\n",
       "  <tbody>\n",
       "    <tr>\n",
       "      <th>0</th>\n",
       "      <td>FU6BBIb5lgNN4ezJo8YYVGBor0CZY</td>\n",
       "      <td>LV2XZS82XY1QP</td>\n",
       "      <td>2023-09-09T02:09:50.182Z</td>\n",
       "      <td>2023-09-09T02:09:50.182Z</td>\n",
       "      <td>OPEN</td>\n",
       "      <td>1</td>\n",
       "      <td>{'total_money': {'amount': 1100, 'currency': '...</td>\n",
       "      <td>VK09BGAVBNB1T5F4530K163W5M</td>\n",
       "    </tr>\n",
       "    <tr>\n",
       "      <th>1</th>\n",
       "      <td>TtZ4vOJa0tKIRfUTDOPIVc9y8kSZY</td>\n",
       "      <td>LV2XZS82XY1QP</td>\n",
       "      <td>2023-09-09T02:09:49.475Z</td>\n",
       "      <td>2023-09-09T02:09:49.475Z</td>\n",
       "      <td>OPEN</td>\n",
       "      <td>1</td>\n",
       "      <td>{'total_money': {'amount': 964, 'currency': 'U...</td>\n",
       "      <td>1P0ZY96849H446231JNDH0V97R</td>\n",
       "    </tr>\n",
       "    <tr>\n",
       "      <th>2</th>\n",
       "      <td>dk45czlbXWqudbAMaZ6MUQWaXMKZY</td>\n",
       "      <td>LV2XZS82XY1QP</td>\n",
       "      <td>2023-09-09T02:09:48.278Z</td>\n",
       "      <td>2023-09-09T02:09:48.278Z</td>\n",
       "      <td>OPEN</td>\n",
       "      <td>1</td>\n",
       "      <td>{'total_money': {'amount': 657, 'currency': 'U...</td>\n",
       "      <td>6WH79TC7KP6X5AYXWQWDR377TW</td>\n",
       "    </tr>\n",
       "    <tr>\n",
       "      <th>3</th>\n",
       "      <td>9M4fYq5tBgDKgDsWNPo7aTaUZOVZY</td>\n",
       "      <td>LV2XZS82XY1QP</td>\n",
       "      <td>2023-09-09T02:09:47.722Z</td>\n",
       "      <td>2023-09-09T02:09:47.722Z</td>\n",
       "      <td>OPEN</td>\n",
       "      <td>1</td>\n",
       "      <td>{'total_money': {'amount': 394, 'currency': 'U...</td>\n",
       "      <td>MXSQ3Q1QE8M80HDTVHHJEZRF50</td>\n",
       "    </tr>\n",
       "    <tr>\n",
       "      <th>4</th>\n",
       "      <td>LdHKfiwB6ulvjs8O9TPyMGxiKwLZY</td>\n",
       "      <td>LV2XZS82XY1QP</td>\n",
       "      <td>2023-09-09T02:09:47.158Z</td>\n",
       "      <td>2023-09-09T02:09:47.158Z</td>\n",
       "      <td>OPEN</td>\n",
       "      <td>1</td>\n",
       "      <td>{'total_money': {'amount': 175, 'currency': 'U...</td>\n",
       "      <td>T7EM1V4A8J23ZGYNGATK07PNKR</td>\n",
       "    </tr>\n",
       "  </tbody>\n",
       "</table>\n",
       "</div>"
      ],
      "text/plain": [
       "                              id    location_id                created_at  \\\n",
       "0  FU6BBIb5lgNN4ezJo8YYVGBor0CZY  LV2XZS82XY1QP  2023-09-09T02:09:50.182Z   \n",
       "1  TtZ4vOJa0tKIRfUTDOPIVc9y8kSZY  LV2XZS82XY1QP  2023-09-09T02:09:49.475Z   \n",
       "2  dk45czlbXWqudbAMaZ6MUQWaXMKZY  LV2XZS82XY1QP  2023-09-09T02:09:48.278Z   \n",
       "3  9M4fYq5tBgDKgDsWNPo7aTaUZOVZY  LV2XZS82XY1QP  2023-09-09T02:09:47.722Z   \n",
       "4  LdHKfiwB6ulvjs8O9TPyMGxiKwLZY  LV2XZS82XY1QP  2023-09-09T02:09:47.158Z   \n",
       "\n",
       "                 updated_at state  version  \\\n",
       "0  2023-09-09T02:09:50.182Z  OPEN        1   \n",
       "1  2023-09-09T02:09:49.475Z  OPEN        1   \n",
       "2  2023-09-09T02:09:48.278Z  OPEN        1   \n",
       "3  2023-09-09T02:09:47.722Z  OPEN        1   \n",
       "4  2023-09-09T02:09:47.158Z  OPEN        1   \n",
       "\n",
       "                                         net_amounts  \\\n",
       "0  {'total_money': {'amount': 1100, 'currency': '...   \n",
       "1  {'total_money': {'amount': 964, 'currency': 'U...   \n",
       "2  {'total_money': {'amount': 657, 'currency': 'U...   \n",
       "3  {'total_money': {'amount': 394, 'currency': 'U...   \n",
       "4  {'total_money': {'amount': 175, 'currency': 'U...   \n",
       "\n",
       "                  customer_id  \n",
       "0  VK09BGAVBNB1T5F4530K163W5M  \n",
       "1  1P0ZY96849H446231JNDH0V97R  \n",
       "2  6WH79TC7KP6X5AYXWQWDR377TW  \n",
       "3  MXSQ3Q1QE8M80HDTVHHJEZRF50  \n",
       "4  T7EM1V4A8J23ZGYNGATK07PNKR  "
      ]
     },
     "execution_count": 16,
     "metadata": {},
     "output_type": "execute_result"
    }
   ],
   "source": [
    "# first_order = batch_orders_list[0]\n",
    "order_list = []\n",
    "\n",
    "for order in batch_orders_list:\n",
    "    id = order[\"id\"]\n",
    "    location_id = order[\"location_id\"]\n",
    "    created_at = order[\"created_at\"]\n",
    "    updated_at = order[\"updated_at\"]\n",
    "    state = order[\"state\"]\n",
    "    version = order[\"version\"]\n",
    "    net_amounts = order[\"net_amounts\"]\n",
    "    customer_id = order[\"customer_id\"]\n",
    "\n",
    "    order_list.append((id, location_id, created_at, updated_at, state, version, net_amounts, customer_id))\n",
    "\n",
    "# create DataFrame using data\n",
    "df = pd.DataFrame(order_list, columns =[\"id\", \"location_id\", \"created_at\", \"updated_at\", \"state\", \"version\", \"net_amounts\", \"customer_id\"])\n",
    "\n",
    "df"
   ]
  }
 ],
 "metadata": {
  "kernelspec": {
   "display_name": "Python 3",
   "language": "python",
   "name": "python3"
  },
  "language_info": {
   "codemirror_mode": {
    "name": "ipython",
    "version": 3
   },
   "file_extension": ".py",
   "mimetype": "text/x-python",
   "name": "python",
   "nbconvert_exporter": "python",
   "pygments_lexer": "ipython3",
   "version": "3.10.0"
  },
  "orig_nbformat": 4
 },
 "nbformat": 4,
 "nbformat_minor": 2
}

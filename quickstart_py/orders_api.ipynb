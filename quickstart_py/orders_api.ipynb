{
 "cells": [
  {
   "cell_type": "code",
   "execution_count": 2,
   "metadata": {},
   "outputs": [
    {
     "data": {
      "text/plain": [
       "True"
      ]
     },
     "execution_count": 2,
     "metadata": {},
     "output_type": "execute_result"
    }
   ],
   "source": [
    "from square.client import Client\n",
    "import os\n",
    "from dotenv import load_dotenv\n",
    "load_dotenv()"
   ]
  },
  {
   "cell_type": "code",
   "execution_count": 3,
   "metadata": {},
   "outputs": [],
   "source": [
    "client = Client(\n",
    "    access_token=os.environ['SQUARE_ACCESS_TOKEN'],\n",
    "    environment='sandbox')\n",
    "\n",
    "orders_api = client.orders"
   ]
  },
  {
   "cell_type": "code",
   "execution_count": 4,
   "metadata": {},
   "outputs": [
    {
     "name": "stdout",
     "output_type": "stream",
     "text": [
      "{'order_entries': [{'order_id': 'FU6BBIb5lgNN4ezJo8YYVGBor0CZY', 'version': 1, 'location_id': 'LV2XZS82XY1QP'}, {'order_id': 'TtZ4vOJa0tKIRfUTDOPIVc9y8kSZY', 'version': 1, 'location_id': 'LV2XZS82XY1QP'}, {'order_id': 'dk45czlbXWqudbAMaZ6MUQWaXMKZY', 'version': 1, 'location_id': 'LV2XZS82XY1QP'}, {'order_id': '9M4fYq5tBgDKgDsWNPo7aTaUZOVZY', 'version': 1, 'location_id': 'LV2XZS82XY1QP'}, {'order_id': 'LdHKfiwB6ulvjs8O9TPyMGxiKwLZY', 'version': 1, 'location_id': 'LV2XZS82XY1QP'}], 'cursor': 'waIXrp8iL7fXIaEaqPELLGOJAi1DOysrQEpxwQ98kSvKz911BvwaAcXCMBr7tpf9qvfH2A9xaLKun3AFuGRXxJIkb83Rq3RVIoodlZ14SIEpotmZCo31jG9glUZyH9QIaeoEmd3HkjY8w7McyvwoQcdwidGvLwQxcA7hpvp58sAj2yRSwBLgMGYv72yfm4qCfX2xTemzEkEHBriwkHbzQvRtFA5YAAYaMr7yNW62aOXS4qy2swKPrg66NndTMknOSyMcGhciMsCAoz1DfHBuUnkhvf6X2wdoq6jIRrK5n2kyBLyHX5ves9Dl9pbYYO'}\n"
     ]
    }
   ],
   "source": [
    "# Search orders\n",
    "body = {\n",
    "    'location_ids': [\n",
    "        'LV2XZS82XY1QP'\n",
    "    ],\n",
    "    'query': {\n",
    "        'filter': {\n",
    "        }\n",
    "    },\n",
    "    'limit': 5,\n",
    "    'return_entries': True\n",
    "}\n",
    "\n",
    "result = orders_api.search_orders(body)\n",
    "\n",
    "if result.is_success():\n",
    "    print(result.body)\n",
    "elif result.is_error():\n",
    "    print(result.errors)\n"
   ]
  },
  {
   "cell_type": "code",
   "execution_count": 5,
   "metadata": {},
   "outputs": [
    {
     "name": "stdout",
     "output_type": "stream",
     "text": [
      "5\n"
     ]
    },
    {
     "data": {
      "text/plain": [
       "['FU6BBIb5lgNN4ezJo8YYVGBor0CZY',\n",
       " 'TtZ4vOJa0tKIRfUTDOPIVc9y8kSZY',\n",
       " 'dk45czlbXWqudbAMaZ6MUQWaXMKZY',\n",
       " '9M4fYq5tBgDKgDsWNPo7aTaUZOVZY',\n",
       " 'LdHKfiwB6ulvjs8O9TPyMGxiKwLZY']"
      ]
     },
     "execution_count": 5,
     "metadata": {},
     "output_type": "execute_result"
    }
   ],
   "source": [
    "orders_dict = result.body\n",
    "order_entries_list = orders_dict[\"order_entries\"]\n",
    "\n",
    "print(len(order_entries_list))\n",
    "order_id_list = []\n",
    "\n",
    "for x in range(0, len(order_entries_list)):\n",
    "    order_id = order_entries_list[x][\"order_id\"]\n",
    "    order_id_list.append(order_id)\n",
    "\n",
    "order_id_list\n"
   ]
  },
  {
   "cell_type": "code",
   "execution_count": 6,
   "metadata": {},
   "outputs": [
    {
     "name": "stdout",
     "output_type": "stream",
     "text": [
      "{'orders': [{'id': 'FU6BBIb5lgNN4ezJo8YYVGBor0CZY', 'location_id': 'LV2XZS82XY1QP', 'line_items': [{'uid': 'mkzqh3WLSJkpmjF3jiMaJ', 'catalog_object_id': 'QU2JOEL4HG64KCTGLUSLFUK6', 'catalog_version': 1694225358547, 'quantity': '5', 'name': 'Tea', 'variation_name': 'Honey Lemon', 'base_price_money': {'amount': 200, 'currency': 'USD'}, 'gross_sales_money': {'amount': 1000, 'currency': 'USD'}, 'total_tax_money': {'amount': 100, 'currency': 'USD'}, 'total_discount_money': {'amount': 0, 'currency': 'USD'}, 'total_money': {'amount': 1100, 'currency': 'USD'}, 'variation_total_price_money': {'amount': 1000, 'currency': 'USD'}, 'applied_taxes': [{'uid': 'lCw1SLSfOwyj56wWUKXaYB', 'tax_uid': 'sales_tax', 'applied_money': {'amount': 100, 'currency': 'USD'}}], 'item_type': 'ITEM', 'total_service_charge_money': {'amount': 0, 'currency': 'USD'}}], 'taxes': [{'uid': 'sales_tax', 'catalog_object_id': 'G6WSJ5RQDYVBKO5Z6PQH3WJJ', 'catalog_version': 1694225358547, 'name': 'Sales tax', 'percentage': '10.0', 'type': 'ADDITIVE', 'applied_money': {'amount': 100, 'currency': 'USD'}, 'scope': 'ORDER'}], 'created_at': '2023-09-09T02:09:50.182Z', 'updated_at': '2023-09-09T02:09:50.182Z', 'state': 'OPEN', 'version': 1, 'reference_id': 'GRAPHQL-SAMPLE-APP', 'total_tax_money': {'amount': 100, 'currency': 'USD'}, 'total_discount_money': {'amount': 0, 'currency': 'USD'}, 'total_tip_money': {'amount': 0, 'currency': 'USD'}, 'total_money': {'amount': 1100, 'currency': 'USD'}, 'total_service_charge_money': {'amount': 0, 'currency': 'USD'}, 'net_amounts': {'total_money': {'amount': 1100, 'currency': 'USD'}, 'tax_money': {'amount': 100, 'currency': 'USD'}, 'discount_money': {'amount': 0, 'currency': 'USD'}, 'tip_money': {'amount': 0, 'currency': 'USD'}, 'service_charge_money': {'amount': 0, 'currency': 'USD'}}, 'source': {'name': 'GRAPHQL-SAMPLE-APP'}, 'customer_id': 'VK09BGAVBNB1T5F4530K163W5M', 'net_amount_due_money': {'amount': 1100, 'currency': 'USD'}}, {'id': 'TtZ4vOJa0tKIRfUTDOPIVc9y8kSZY', 'location_id': 'LV2XZS82XY1QP', 'line_items': [{'uid': 'zF2o4RSnprTcKLDxZrAa7', 'catalog_object_id': 'M5XGQR3VGKXQRLU5PCI3KH3C', 'catalog_version': 1694225358547, 'quantity': '4', 'name': 'Coffee', 'variation_name': 'Extra Large', 'base_price_money': {'amount': 219, 'currency': 'USD'}, 'gross_sales_money': {'amount': 876, 'currency': 'USD'}, 'total_tax_money': {'amount': 88, 'currency': 'USD'}, 'total_discount_money': {'amount': 0, 'currency': 'USD'}, 'total_money': {'amount': 964, 'currency': 'USD'}, 'variation_total_price_money': {'amount': 876, 'currency': 'USD'}, 'applied_taxes': [{'uid': 'SXMc8rqRAqkgLTLYe2l8gB', 'tax_uid': 'sales_tax', 'applied_money': {'amount': 88, 'currency': 'USD'}}], 'item_type': 'ITEM', 'total_service_charge_money': {'amount': 0, 'currency': 'USD'}}], 'taxes': [{'uid': 'sales_tax', 'catalog_object_id': 'G6WSJ5RQDYVBKO5Z6PQH3WJJ', 'catalog_version': 1694225358547, 'name': 'Sales tax', 'percentage': '10.0', 'type': 'ADDITIVE', 'applied_money': {'amount': 88, 'currency': 'USD'}, 'scope': 'ORDER'}], 'created_at': '2023-09-09T02:09:49.475Z', 'updated_at': '2023-09-09T02:09:49.475Z', 'state': 'OPEN', 'version': 1, 'reference_id': 'GRAPHQL-SAMPLE-APP', 'total_tax_money': {'amount': 88, 'currency': 'USD'}, 'total_discount_money': {'amount': 0, 'currency': 'USD'}, 'total_tip_money': {'amount': 0, 'currency': 'USD'}, 'total_money': {'amount': 964, 'currency': 'USD'}, 'total_service_charge_money': {'amount': 0, 'currency': 'USD'}, 'net_amounts': {'total_money': {'amount': 964, 'currency': 'USD'}, 'tax_money': {'amount': 88, 'currency': 'USD'}, 'discount_money': {'amount': 0, 'currency': 'USD'}, 'tip_money': {'amount': 0, 'currency': 'USD'}, 'service_charge_money': {'amount': 0, 'currency': 'USD'}}, 'source': {'name': 'GRAPHQL-SAMPLE-APP'}, 'customer_id': '1P0ZY96849H446231JNDH0V97R', 'net_amount_due_money': {'amount': 964, 'currency': 'USD'}}, {'id': 'dk45czlbXWqudbAMaZ6MUQWaXMKZY', 'location_id': 'LV2XZS82XY1QP', 'line_items': [{'uid': 'XjluSrxODSGCOOHpKXWrvC', 'catalog_object_id': 'G3USA7KKSPWD7ZZ2I2RMQIYL', 'catalog_version': 1694225358547, 'quantity': '3', 'name': 'Coffee', 'variation_name': 'Large', 'base_price_money': {'amount': 199, 'currency': 'USD'}, 'gross_sales_money': {'amount': 597, 'currency': 'USD'}, 'total_tax_money': {'amount': 60, 'currency': 'USD'}, 'total_discount_money': {'amount': 0, 'currency': 'USD'}, 'total_money': {'amount': 657, 'currency': 'USD'}, 'variation_total_price_money': {'amount': 597, 'currency': 'USD'}, 'applied_taxes': [{'uid': 'Sd3dn2DdQpUDsKnJ2ZvZ5C', 'tax_uid': 'sales_tax', 'applied_money': {'amount': 60, 'currency': 'USD'}}], 'item_type': 'ITEM', 'total_service_charge_money': {'amount': 0, 'currency': 'USD'}}], 'taxes': [{'uid': 'sales_tax', 'catalog_object_id': 'G6WSJ5RQDYVBKO5Z6PQH3WJJ', 'catalog_version': 1694225358547, 'name': 'Sales tax', 'percentage': '10.0', 'type': 'ADDITIVE', 'applied_money': {'amount': 60, 'currency': 'USD'}, 'scope': 'ORDER'}], 'created_at': '2023-09-09T02:09:48.278Z', 'updated_at': '2023-09-09T02:09:48.278Z', 'state': 'OPEN', 'version': 1, 'reference_id': 'GRAPHQL-SAMPLE-APP', 'total_tax_money': {'amount': 60, 'currency': 'USD'}, 'total_discount_money': {'amount': 0, 'currency': 'USD'}, 'total_tip_money': {'amount': 0, 'currency': 'USD'}, 'total_money': {'amount': 657, 'currency': 'USD'}, 'total_service_charge_money': {'amount': 0, 'currency': 'USD'}, 'net_amounts': {'total_money': {'amount': 657, 'currency': 'USD'}, 'tax_money': {'amount': 60, 'currency': 'USD'}, 'discount_money': {'amount': 0, 'currency': 'USD'}, 'tip_money': {'amount': 0, 'currency': 'USD'}, 'service_charge_money': {'amount': 0, 'currency': 'USD'}}, 'source': {'name': 'GRAPHQL-SAMPLE-APP'}, 'customer_id': '6WH79TC7KP6X5AYXWQWDR377TW', 'net_amount_due_money': {'amount': 657, 'currency': 'USD'}}, {'id': '9M4fYq5tBgDKgDsWNPo7aTaUZOVZY', 'location_id': 'LV2XZS82XY1QP', 'line_items': [{'uid': 'oCtFkv5MZQltxfJJs8QkP', 'catalog_object_id': 'FLXOYUKIRKSDWCSER6VW7EQZ', 'catalog_version': 1694225358547, 'quantity': '2', 'name': 'Coffee', 'variation_name': 'Medium', 'base_price_money': {'amount': 179, 'currency': 'USD'}, 'gross_sales_money': {'amount': 358, 'currency': 'USD'}, 'total_tax_money': {'amount': 36, 'currency': 'USD'}, 'total_discount_money': {'amount': 0, 'currency': 'USD'}, 'total_money': {'amount': 394, 'currency': 'USD'}, 'variation_total_price_money': {'amount': 358, 'currency': 'USD'}, 'applied_taxes': [{'uid': 'R7tUq817ep2DL86lv83UPC', 'tax_uid': 'sales_tax', 'applied_money': {'amount': 36, 'currency': 'USD'}}], 'item_type': 'ITEM', 'total_service_charge_money': {'amount': 0, 'currency': 'USD'}}], 'taxes': [{'uid': 'sales_tax', 'catalog_object_id': 'G6WSJ5RQDYVBKO5Z6PQH3WJJ', 'catalog_version': 1694225358547, 'name': 'Sales tax', 'percentage': '10.0', 'type': 'ADDITIVE', 'applied_money': {'amount': 36, 'currency': 'USD'}, 'scope': 'ORDER'}], 'created_at': '2023-09-09T02:09:47.722Z', 'updated_at': '2023-09-09T02:09:47.722Z', 'state': 'OPEN', 'version': 1, 'reference_id': 'GRAPHQL-SAMPLE-APP', 'total_tax_money': {'amount': 36, 'currency': 'USD'}, 'total_discount_money': {'amount': 0, 'currency': 'USD'}, 'total_tip_money': {'amount': 0, 'currency': 'USD'}, 'total_money': {'amount': 394, 'currency': 'USD'}, 'total_service_charge_money': {'amount': 0, 'currency': 'USD'}, 'net_amounts': {'total_money': {'amount': 394, 'currency': 'USD'}, 'tax_money': {'amount': 36, 'currency': 'USD'}, 'discount_money': {'amount': 0, 'currency': 'USD'}, 'tip_money': {'amount': 0, 'currency': 'USD'}, 'service_charge_money': {'amount': 0, 'currency': 'USD'}}, 'source': {'name': 'GRAPHQL-SAMPLE-APP'}, 'customer_id': 'MXSQ3Q1QE8M80HDTVHHJEZRF50', 'net_amount_due_money': {'amount': 394, 'currency': 'USD'}}, {'id': 'LdHKfiwB6ulvjs8O9TPyMGxiKwLZY', 'location_id': 'LV2XZS82XY1QP', 'line_items': [{'uid': 'Cf9Q1LGjrZUzCN82LL8J5B', 'catalog_object_id': 'FTJBGLEJPVXCOYXEAXKQSKGO', 'catalog_version': 1694225358547, 'quantity': '1', 'name': 'Coffee', 'variation_name': 'Small', 'base_price_money': {'amount': 159, 'currency': 'USD'}, 'gross_sales_money': {'amount': 159, 'currency': 'USD'}, 'total_tax_money': {'amount': 16, 'currency': 'USD'}, 'total_discount_money': {'amount': 0, 'currency': 'USD'}, 'total_money': {'amount': 175, 'currency': 'USD'}, 'variation_total_price_money': {'amount': 159, 'currency': 'USD'}, 'applied_taxes': [{'uid': 'Mlhq3BfrhtfDuQwt8Pvj4C', 'tax_uid': 'sales_tax', 'applied_money': {'amount': 16, 'currency': 'USD'}}], 'item_type': 'ITEM', 'total_service_charge_money': {'amount': 0, 'currency': 'USD'}}], 'taxes': [{'uid': 'sales_tax', 'catalog_object_id': 'G6WSJ5RQDYVBKO5Z6PQH3WJJ', 'catalog_version': 1694225358547, 'name': 'Sales tax', 'percentage': '10.0', 'type': 'ADDITIVE', 'applied_money': {'amount': 16, 'currency': 'USD'}, 'scope': 'ORDER'}], 'created_at': '2023-09-09T02:09:47.158Z', 'updated_at': '2023-09-09T02:09:47.158Z', 'state': 'OPEN', 'version': 1, 'reference_id': 'GRAPHQL-SAMPLE-APP', 'total_tax_money': {'amount': 16, 'currency': 'USD'}, 'total_discount_money': {'amount': 0, 'currency': 'USD'}, 'total_tip_money': {'amount': 0, 'currency': 'USD'}, 'total_money': {'amount': 175, 'currency': 'USD'}, 'total_service_charge_money': {'amount': 0, 'currency': 'USD'}, 'net_amounts': {'total_money': {'amount': 175, 'currency': 'USD'}, 'tax_money': {'amount': 16, 'currency': 'USD'}, 'discount_money': {'amount': 0, 'currency': 'USD'}, 'tip_money': {'amount': 0, 'currency': 'USD'}, 'service_charge_money': {'amount': 0, 'currency': 'USD'}}, 'source': {'name': 'GRAPHQL-SAMPLE-APP'}, 'customer_id': 'T7EM1V4A8J23ZGYNGATK07PNKR', 'net_amount_due_money': {'amount': 175, 'currency': 'USD'}}]}\n"
     ]
    }
   ],
   "source": [
    "batch_orders = client.orders.batch_retrieve_orders(\n",
    "  body = {\n",
    "    \"order_ids\": order_id_list\n",
    "  }\n",
    ")\n",
    "\n",
    "if batch_orders.is_success():\n",
    "  print(batch_orders.body)\n",
    "elif batch_orders.is_error():\n",
    "  print(batch_orders.errors)"
   ]
  },
  {
   "cell_type": "code",
   "execution_count": 7,
   "metadata": {},
   "outputs": [],
   "source": [
    "batch_orders_dict = batch_orders.body\n",
    "batch_orders_list = batch_orders_dict['orders']"
   ]
  },
  {
   "cell_type": "code",
   "execution_count": 8,
   "metadata": {},
   "outputs": [
    {
     "data": {
      "text/plain": [
       "({'id': 'FU6BBIb5lgNN4ezJo8YYVGBor0CZY',\n",
       "  'location_id': 'LV2XZS82XY1QP',\n",
       "  'line_items': [{'uid': 'mkzqh3WLSJkpmjF3jiMaJ',\n",
       "    'catalog_object_id': 'QU2JOEL4HG64KCTGLUSLFUK6',\n",
       "    'catalog_version': 1694225358547,\n",
       "    'quantity': '5',\n",
       "    'name': 'Tea',\n",
       "    'variation_name': 'Honey Lemon',\n",
       "    'base_price_money': {'amount': 200, 'currency': 'USD'},\n",
       "    'gross_sales_money': {'amount': 1000, 'currency': 'USD'},\n",
       "    'total_tax_money': {'amount': 100, 'currency': 'USD'},\n",
       "    'total_discount_money': {'amount': 0, 'currency': 'USD'},\n",
       "    'total_money': {'amount': 1100, 'currency': 'USD'},\n",
       "    'variation_total_price_money': {'amount': 1000, 'currency': 'USD'},\n",
       "    'applied_taxes': [{'uid': 'lCw1SLSfOwyj56wWUKXaYB',\n",
       "      'tax_uid': 'sales_tax',\n",
       "      'applied_money': {'amount': 100, 'currency': 'USD'}}],\n",
       "    'item_type': 'ITEM',\n",
       "    'total_service_charge_money': {'amount': 0, 'currency': 'USD'}}],\n",
       "  'taxes': [{'uid': 'sales_tax',\n",
       "    'catalog_object_id': 'G6WSJ5RQDYVBKO5Z6PQH3WJJ',\n",
       "    'catalog_version': 1694225358547,\n",
       "    'name': 'Sales tax',\n",
       "    'percentage': '10.0',\n",
       "    'type': 'ADDITIVE',\n",
       "    'applied_money': {'amount': 100, 'currency': 'USD'},\n",
       "    'scope': 'ORDER'}],\n",
       "  'created_at': '2023-09-09T02:09:50.182Z',\n",
       "  'updated_at': '2023-09-09T02:09:50.182Z',\n",
       "  'state': 'OPEN',\n",
       "  'version': 1,\n",
       "  'reference_id': 'GRAPHQL-SAMPLE-APP',\n",
       "  'total_tax_money': {'amount': 100, 'currency': 'USD'},\n",
       "  'total_discount_money': {'amount': 0, 'currency': 'USD'},\n",
       "  'total_tip_money': {'amount': 0, 'currency': 'USD'},\n",
       "  'total_money': {'amount': 1100, 'currency': 'USD'},\n",
       "  'total_service_charge_money': {'amount': 0, 'currency': 'USD'},\n",
       "  'net_amounts': {'total_money': {'amount': 1100, 'currency': 'USD'},\n",
       "   'tax_money': {'amount': 100, 'currency': 'USD'},\n",
       "   'discount_money': {'amount': 0, 'currency': 'USD'},\n",
       "   'tip_money': {'amount': 0, 'currency': 'USD'},\n",
       "   'service_charge_money': {'amount': 0, 'currency': 'USD'}},\n",
       "  'source': {'name': 'GRAPHQL-SAMPLE-APP'},\n",
       "  'customer_id': 'VK09BGAVBNB1T5F4530K163W5M',\n",
       "  'net_amount_due_money': {'amount': 1100, 'currency': 'USD'}},\n",
       " 'FU6BBIb5lgNN4ezJo8YYVGBor0CZY',\n",
       " 'LV2XZS82XY1QP',\n",
       " '2023-09-09T02:09:50.182Z',\n",
       " '2023-09-09T02:09:50.182Z',\n",
       " 'OPEN',\n",
       " 1,\n",
       " {'total_money': {'amount': 1100, 'currency': 'USD'},\n",
       "  'tax_money': {'amount': 100, 'currency': 'USD'},\n",
       "  'discount_money': {'amount': 0, 'currency': 'USD'},\n",
       "  'tip_money': {'amount': 0, 'currency': 'USD'},\n",
       "  'service_charge_money': {'amount': 0, 'currency': 'USD'}},\n",
       " 'VK09BGAVBNB1T5F4530K163W5M')"
      ]
     },
     "execution_count": 8,
     "metadata": {},
     "output_type": "execute_result"
    }
   ],
   "source": [
    "first_order = batch_orders_list[0]\n",
    "order_id = first_order[\"id\"]\n",
    "location_id = first_order[\"location_id\"]\n",
    "created_at = first_order[\"created_at\"]\n",
    "updated_at = first_order[\"updated_at\"]\n",
    "state = first_order[\"state\"]\n",
    "version = first_order[\"version\"]\n",
    "net_amounts = first_order[\"net_amounts\"]\n",
    "customer_id = first_order[\"customer_id\"]\n",
    "\n",
    "order_tuple = (first_order, order_id, location_id, created_at, updated_at, state, version, net_amounts, customer_id)\n",
    "order_tuple"
   ]
  }
 ],
 "metadata": {
  "kernelspec": {
   "display_name": "Python 3",
   "language": "python",
   "name": "python3"
  },
  "language_info": {
   "codemirror_mode": {
    "name": "ipython",
    "version": 3
   },
   "file_extension": ".py",
   "mimetype": "text/x-python",
   "name": "python",
   "nbconvert_exporter": "python",
   "pygments_lexer": "ipython3",
   "version": "3.10.0"
  },
  "orig_nbformat": 4
 },
 "nbformat": 4,
 "nbformat_minor": 2
}

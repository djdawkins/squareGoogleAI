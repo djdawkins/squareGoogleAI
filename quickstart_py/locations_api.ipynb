{
 "cells": [
  {
   "cell_type": "code",
   "execution_count": 1,
   "metadata": {},
   "outputs": [
    {
     "data": {
      "text/plain": [
       "True"
      ]
     },
     "execution_count": 1,
     "metadata": {},
     "output_type": "execute_result"
    }
   ],
   "source": [
    "from square.client import Client\n",
    "import os\n",
    "from dotenv import load_dotenv\n",
    "import pandas as pd\n",
    "load_dotenv()"
   ]
  },
  {
   "cell_type": "code",
   "execution_count": 2,
   "metadata": {},
   "outputs": [],
   "source": [
    "client = Client(\n",
    "    access_token=os.environ['SQUARE_ACCESS_TOKEN'],\n",
    "    environment='sandbox')"
   ]
  },
  {
   "cell_type": "markdown",
   "metadata": {},
   "source": [
    "### Locations"
   ]
  },
  {
   "cell_type": "code",
   "execution_count": 3,
   "metadata": {},
   "outputs": [
    {
     "name": "stdout",
     "output_type": "stream",
     "text": [
      "{'locations': [{'id': 'LV2XZS82XY1QP', 'name': 'Default Test Account', 'address': {'address_line_1': '1600 Pennsylvania Ave NW', 'locality': 'Washington', 'administrative_district_level_1': 'DC', 'postal_code': '20500', 'country': 'US'}, 'timezone': 'UTC', 'capabilities': ['CREDIT_CARD_PROCESSING', 'AUTOMATIC_TRANSFERS'], 'status': 'ACTIVE', 'created_at': '2023-08-27T12:46:15.767Z', 'merchant_id': 'ML8A45BNKWMJG', 'country': 'US', 'language_code': 'en-US', 'currency': 'USD', 'business_name': 'Default Test Account', 'type': 'PHYSICAL', 'business_hours': {}, 'mcc': '7299'}]}\n"
     ]
    }
   ],
   "source": [
    "location_result = client.locations.list_locations()\n",
    "\n",
    "if location_result.is_success():\n",
    "  print(location_result.body)\n",
    "elif location_result.is_error():\n",
    "  print(location_result.errors)"
   ]
  },
  {
   "cell_type": "markdown",
   "metadata": {},
   "source": [
    "### List of location id's"
   ]
  },
  {
   "cell_type": "code",
   "execution_count": 4,
   "metadata": {},
   "outputs": [
    {
     "data": {
      "text/html": [
       "<div>\n",
       "<style scoped>\n",
       "    .dataframe tbody tr th:only-of-type {\n",
       "        vertical-align: middle;\n",
       "    }\n",
       "\n",
       "    .dataframe tbody tr th {\n",
       "        vertical-align: top;\n",
       "    }\n",
       "\n",
       "    .dataframe thead th {\n",
       "        text-align: right;\n",
       "    }\n",
       "</style>\n",
       "<table border=\"1\" class=\"dataframe\">\n",
       "  <thead>\n",
       "    <tr style=\"text-align: right;\">\n",
       "      <th></th>\n",
       "      <th>id</th>\n",
       "      <th>name</th>\n",
       "      <th>address_locality</th>\n",
       "      <th>address_postal_code</th>\n",
       "      <th>address_country</th>\n",
       "      <th>status</th>\n",
       "      <th>created_at</th>\n",
       "      <th>merchant_id</th>\n",
       "      <th>loc_type</th>\n",
       "    </tr>\n",
       "  </thead>\n",
       "  <tbody>\n",
       "    <tr>\n",
       "      <th>0</th>\n",
       "      <td>LV2XZS82XY1QP</td>\n",
       "      <td>Default Test Account</td>\n",
       "      <td>Washington</td>\n",
       "      <td>20500</td>\n",
       "      <td>US</td>\n",
       "      <td>ACTIVE</td>\n",
       "      <td>2023-08-27T12:46:15.767Z</td>\n",
       "      <td>ML8A45BNKWMJG</td>\n",
       "      <td>PHYSICAL</td>\n",
       "    </tr>\n",
       "  </tbody>\n",
       "</table>\n",
       "</div>"
      ],
      "text/plain": [
       "              id                  name address_locality address_postal_code  \\\n",
       "0  LV2XZS82XY1QP  Default Test Account       Washington               20500   \n",
       "\n",
       "  address_country  status                created_at    merchant_id  loc_type  \n",
       "0              US  ACTIVE  2023-08-27T12:46:15.767Z  ML8A45BNKWMJG  PHYSICAL  "
      ]
     },
     "execution_count": 4,
     "metadata": {},
     "output_type": "execute_result"
    }
   ],
   "source": [
    "type(location_result.body['locations'])\n",
    "locations_list = location_result.body['locations']\n",
    "\n",
    "loc_id_list = []\n",
    "for location in locations_list:\n",
    "    id = location[\"id\"]\n",
    "    name = location[\"name\"]\n",
    "    address_locality = location[\"address\"][\"locality\"]\n",
    "    address_postal_code = location[\"address\"][\"postal_code\"]\n",
    "    address_country = location[\"address\"][\"country\"]\n",
    "    status = location[\"status\"]\n",
    "    created_at = location[\"created_at\"]\n",
    "    merchant_id = location[\"merchant_id\"]\n",
    "    loc_type = location[\"type\"]\n",
    "\n",
    "    loc_id_list.append((id, name, address_locality, address_postal_code, \n",
    "                        address_country, status, created_at, merchant_id, loc_type))\n",
    "\n",
    " \n",
    "location_df = pd.DataFrame(loc_id_list, columns =[\"id\", \"name\", \"address_locality\", \"address_postal_code\", \n",
    "                        \"address_country\", \"status\", \"created_at\", \"merchant_id\", \"loc_type\"])\n",
    "\n",
    "location_df.to_csv(\"./graph_data/locations.csv\", index=False)\n",
    "location_df.head()"
   ]
  },
  {
   "cell_type": "code",
   "execution_count": null,
   "metadata": {},
   "outputs": [],
   "source": []
  }
 ],
 "metadata": {
  "kernelspec": {
   "display_name": "Python 3",
   "language": "python",
   "name": "python3"
  },
  "language_info": {
   "codemirror_mode": {
    "name": "ipython",
    "version": 3
   },
   "file_extension": ".py",
   "mimetype": "text/x-python",
   "name": "python",
   "nbconvert_exporter": "python",
   "pygments_lexer": "ipython3",
   "version": "3.10.0"
  },
  "orig_nbformat": 4
 },
 "nbformat": 4,
 "nbformat_minor": 2
}

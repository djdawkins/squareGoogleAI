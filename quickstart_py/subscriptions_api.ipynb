{
 "cells": [
  {
   "cell_type": "code",
   "execution_count": 32,
   "metadata": {},
   "outputs": [
    {
     "data": {
      "text/plain": [
       "True"
      ]
     },
     "execution_count": 32,
     "metadata": {},
     "output_type": "execute_result"
    }
   ],
   "source": [
    "from square.client import Client\n",
    "import os\n",
    "from dotenv import load_dotenv\n",
    "import pandas as pd\n",
    "load_dotenv()"
   ]
  },
  {
   "cell_type": "code",
   "execution_count": 33,
   "metadata": {},
   "outputs": [],
   "source": [
    "client = Client(\n",
    "    access_token=os.environ['SQUARE_ACCESS_TOKEN'],\n",
    "    environment='sandbox')"
   ]
  },
  {
   "cell_type": "markdown",
   "metadata": {},
   "source": [
    "### Search Subs"
   ]
  },
  {
   "cell_type": "code",
   "execution_count": 34,
   "metadata": {},
   "outputs": [
    {
     "name": "stdout",
     "output_type": "stream",
     "text": [
      "{'subscriptions': [{'id': '4653efbf-ef05-4339-805e-dec40a2f2e67', 'location_id': 'LV2XZS82XY1QP', 'customer_id': '1P0ZY96849H446231JNDH0V97R', 'start_date': '2023-09-11', 'charged_through_date': '2023-10-11', 'status': 'ACTIVE', 'invoice_ids': ['inv:0-ChDLBPyf57SVDJl0mzkbD8MxEIEL'], 'version': 1, 'created_at': '2023-09-11T01:33:05Z', 'timezone': 'UTC', 'source': {'name': 'Sandbox for sq0idp-wbdRN2PA9P-8vSPiGU--5w'}, 'phases': [{'uid': '46fd82b8-b275-4ea3-86c0-ca8b9364d7db', 'ordinal': 0, 'order_template_id': '35gVxVXkWdWou4DRJUXU6bffLGDZY', 'plan_phase_uid': 'XFHGBA2ORA3VUBOWKKBM2NMN'}, {'uid': 'ff3cdbab-df4f-43ca-aa9e-079a1bc7c27e', 'ordinal': 1, 'order_template_id': '35gVxVXkWdWou4DRJUXU6bffLGDZY', 'plan_phase_uid': 'CM7NR4HV63V5G2WBB33JAK2G'}], 'plan_variation_id': 'HMO53UKKKTJW52YH3ZFZXJFU'}]}\n"
     ]
    }
   ],
   "source": [
    "result = client.subscriptions.search_subscriptions(\n",
    "  body = {\n",
    "    \"query\": {\n",
    "      \"filter\": {\n",
    "\n",
    "      }\n",
    "    }\n",
    "  }\n",
    ")\n",
    "\n",
    "if result.is_success():\n",
    "  print(result.body)\n",
    "elif result.is_error():\n",
    "  print(result.errors)"
   ]
  },
  {
   "cell_type": "markdown",
   "metadata": {},
   "source": [
    "### Get Sub df"
   ]
  },
  {
   "cell_type": "code",
   "execution_count": 42,
   "metadata": {},
   "outputs": [
    {
     "data": {
      "text/html": [
       "<div>\n",
       "<style scoped>\n",
       "    .dataframe tbody tr th:only-of-type {\n",
       "        vertical-align: middle;\n",
       "    }\n",
       "\n",
       "    .dataframe tbody tr th {\n",
       "        vertical-align: top;\n",
       "    }\n",
       "\n",
       "    .dataframe thead th {\n",
       "        text-align: right;\n",
       "    }\n",
       "</style>\n",
       "<table border=\"1\" class=\"dataframe\">\n",
       "  <thead>\n",
       "    <tr style=\"text-align: right;\">\n",
       "      <th></th>\n",
       "      <th>id</th>\n",
       "      <th>location</th>\n",
       "      <th>customer_id</th>\n",
       "      <th>start_date</th>\n",
       "      <th>charged_through_date</th>\n",
       "      <th>status</th>\n",
       "      <th>created_at</th>\n",
       "      <th>plan_variation_id</th>\n",
       "    </tr>\n",
       "  </thead>\n",
       "  <tbody>\n",
       "    <tr>\n",
       "      <th>0</th>\n",
       "      <td>4653efbf-ef05-4339-805e-dec40a2f2e67</td>\n",
       "      <td>LV2XZS82XY1QP</td>\n",
       "      <td>1P0ZY96849H446231JNDH0V97R</td>\n",
       "      <td>2023-09-11</td>\n",
       "      <td>2023-10-11</td>\n",
       "      <td>ACTIVE</td>\n",
       "      <td>2023-09-11T01:33:05Z</td>\n",
       "      <td>HMO53UKKKTJW52YH3ZFZXJFU</td>\n",
       "    </tr>\n",
       "  </tbody>\n",
       "</table>\n",
       "</div>"
      ],
      "text/plain": [
       "                                     id       location  \\\n",
       "0  4653efbf-ef05-4339-805e-dec40a2f2e67  LV2XZS82XY1QP   \n",
       "\n",
       "                  customer_id  start_date charged_through_date  status  \\\n",
       "0  1P0ZY96849H446231JNDH0V97R  2023-09-11           2023-10-11  ACTIVE   \n",
       "\n",
       "             created_at         plan_variation_id  \n",
       "0  2023-09-11T01:33:05Z  HMO53UKKKTJW52YH3ZFZXJFU  "
      ]
     },
     "execution_count": 42,
     "metadata": {},
     "output_type": "execute_result"
    }
   ],
   "source": [
    "subscription_list = result.body[\"subscriptions\"]\n",
    "\n",
    "sub_details_list = []\n",
    "for subscription in subscription_list:\n",
    "    id = subscription[\"id\"]\n",
    "    location = subscription[\"location_id\"]\n",
    "    customer_id = subscription[\"customer_id\"]\n",
    "    start_date = subscription[\"start_date\"]\n",
    "    charged_through_date = subscription[\"charged_through_date\"]\n",
    "    status = subscription[\"status\"]\n",
    "    created_at = subscription[\"created_at\"]\n",
    "    plan_variation_id = subscription[\"plan_variation_id\"]\n",
    "    # ordinal = subscription[\"ordinal\"]\n",
    "    # order_template_id = subscription[\"order_template_id\"]\n",
    "\n",
    "    sub_details_list.append((id, location, customer_id, start_date, charged_through_date, status, created_at, plan_variation_id))\n",
    "\n",
    "sub_df = pd.DataFrame(sub_details_list, columns=[\"id\", \"location\", \"customer_id\", \"start_date\", \"charged_through_date\", \"status\", \"created_at\", \"plan_variation_id\"])\n",
    "sub_df.head()\n",
    "\n"
   ]
  },
  {
   "cell_type": "markdown",
   "metadata": {},
   "source": [
    "### Subscription x Customer relationship"
   ]
  },
  {
   "cell_type": "code",
   "execution_count": 43,
   "metadata": {},
   "outputs": [
    {
     "data": {
      "text/html": [
       "<div>\n",
       "<style scoped>\n",
       "    .dataframe tbody tr th:only-of-type {\n",
       "        vertical-align: middle;\n",
       "    }\n",
       "\n",
       "    .dataframe tbody tr th {\n",
       "        vertical-align: top;\n",
       "    }\n",
       "\n",
       "    .dataframe thead th {\n",
       "        text-align: right;\n",
       "    }\n",
       "</style>\n",
       "<table border=\"1\" class=\"dataframe\">\n",
       "  <thead>\n",
       "    <tr style=\"text-align: right;\">\n",
       "      <th></th>\n",
       "      <th>id</th>\n",
       "      <th>customer_id</th>\n",
       "    </tr>\n",
       "  </thead>\n",
       "  <tbody>\n",
       "    <tr>\n",
       "      <th>0</th>\n",
       "      <td>4653efbf-ef05-4339-805e-dec40a2f2e67</td>\n",
       "      <td>1P0ZY96849H446231JNDH0V97R</td>\n",
       "    </tr>\n",
       "  </tbody>\n",
       "</table>\n",
       "</div>"
      ],
      "text/plain": [
       "                                     id                 customer_id\n",
       "0  4653efbf-ef05-4339-805e-dec40a2f2e67  1P0ZY96849H446231JNDH0V97R"
      ]
     },
     "execution_count": 43,
     "metadata": {},
     "output_type": "execute_result"
    }
   ],
   "source": [
    "sub_x_cust_df = sub_df[[\"id\", \"customer_id\"]]\n",
    "sub_x_cust_df = sub_x_cust_df.drop_duplicates()\n",
    "sub_x_cust_df"
   ]
  },
  {
   "cell_type": "markdown",
   "metadata": {},
   "source": [
    "### Subscription x Plan Variation relationship"
   ]
  },
  {
   "cell_type": "code",
   "execution_count": 44,
   "metadata": {},
   "outputs": [
    {
     "data": {
      "text/html": [
       "<div>\n",
       "<style scoped>\n",
       "    .dataframe tbody tr th:only-of-type {\n",
       "        vertical-align: middle;\n",
       "    }\n",
       "\n",
       "    .dataframe tbody tr th {\n",
       "        vertical-align: top;\n",
       "    }\n",
       "\n",
       "    .dataframe thead th {\n",
       "        text-align: right;\n",
       "    }\n",
       "</style>\n",
       "<table border=\"1\" class=\"dataframe\">\n",
       "  <thead>\n",
       "    <tr style=\"text-align: right;\">\n",
       "      <th></th>\n",
       "      <th>id</th>\n",
       "      <th>plan_variation_id</th>\n",
       "    </tr>\n",
       "  </thead>\n",
       "  <tbody>\n",
       "    <tr>\n",
       "      <th>0</th>\n",
       "      <td>4653efbf-ef05-4339-805e-dec40a2f2e67</td>\n",
       "      <td>HMO53UKKKTJW52YH3ZFZXJFU</td>\n",
       "    </tr>\n",
       "  </tbody>\n",
       "</table>\n",
       "</div>"
      ],
      "text/plain": [
       "                                     id         plan_variation_id\n",
       "0  4653efbf-ef05-4339-805e-dec40a2f2e67  HMO53UKKKTJW52YH3ZFZXJFU"
      ]
     },
     "execution_count": 44,
     "metadata": {},
     "output_type": "execute_result"
    }
   ],
   "source": [
    "sub_x_plan_vari_df = sub_df[[\"id\", \"plan_variation_id\"]]\n",
    "sub_x_plan_vari_df = sub_x_plan_vari_df.drop_duplicates()\n",
    "sub_x_plan_vari_df"
   ]
  }
 ],
 "metadata": {
  "kernelspec": {
   "display_name": "Python 3",
   "language": "python",
   "name": "python3"
  },
  "language_info": {
   "codemirror_mode": {
    "name": "ipython",
    "version": 3
   },
   "file_extension": ".py",
   "mimetype": "text/x-python",
   "name": "python",
   "nbconvert_exporter": "python",
   "pygments_lexer": "ipython3",
   "version": "3.10.0"
  },
  "orig_nbformat": 4
 },
 "nbformat": 4,
 "nbformat_minor": 2
}

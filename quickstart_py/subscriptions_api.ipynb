{
 "cells": [
  {
   "cell_type": "code",
   "execution_count": 1,
   "metadata": {},
   "outputs": [
    {
     "data": {
      "text/plain": [
       "True"
      ]
     },
     "execution_count": 1,
     "metadata": {},
     "output_type": "execute_result"
    }
   ],
   "source": [
    "from square.client import Client\n",
    "import os\n",
    "from dotenv import load_dotenv\n",
    "import pandas as pd\n",
    "load_dotenv()"
   ]
  },
  {
   "cell_type": "code",
   "execution_count": 2,
   "metadata": {},
   "outputs": [],
   "source": [
    "client = Client(\n",
    "    access_token=os.environ['SQUARE_ACCESS_TOKEN'],\n",
    "    environment='sandbox')"
   ]
  },
  {
   "cell_type": "markdown",
   "metadata": {},
   "source": [
    "### Search Subs"
   ]
  },
  {
   "cell_type": "code",
   "execution_count": 3,
   "metadata": {},
   "outputs": [
    {
     "name": "stdout",
     "output_type": "stream",
     "text": [
      "{'subscriptions': [{'id': '4653efbf-ef05-4339-805e-dec40a2f2e67', 'location_id': 'LV2XZS82XY1QP', 'customer_id': '1P0ZY96849H446231JNDH0V97R', 'start_date': '2023-09-11', 'charged_through_date': '2023-10-11', 'status': 'ACTIVE', 'invoice_ids': ['inv:0-ChDLBPyf57SVDJl0mzkbD8MxEIEL'], 'version': 1, 'created_at': '2023-09-11T01:33:05Z', 'timezone': 'UTC', 'source': {'name': 'Sandbox for sq0idp-wbdRN2PA9P-8vSPiGU--5w'}, 'phases': [{'uid': '46fd82b8-b275-4ea3-86c0-ca8b9364d7db', 'ordinal': 0, 'order_template_id': '35gVxVXkWdWou4DRJUXU6bffLGDZY', 'plan_phase_uid': 'XFHGBA2ORA3VUBOWKKBM2NMN'}, {'uid': 'ff3cdbab-df4f-43ca-aa9e-079a1bc7c27e', 'ordinal': 1, 'order_template_id': '35gVxVXkWdWou4DRJUXU6bffLGDZY', 'plan_phase_uid': 'CM7NR4HV63V5G2WBB33JAK2G'}], 'plan_variation_id': 'HMO53UKKKTJW52YH3ZFZXJFU'}]}\n"
     ]
    }
   ],
   "source": [
    "result = client.subscriptions.search_subscriptions(\n",
    "  body = {\n",
    "    \"query\": {\n",
    "      \"filter\": {\n",
    "\n",
    "      }\n",
    "    }\n",
    "  }\n",
    ")\n",
    "\n",
    "if result.is_success():\n",
    "  print(result.body)\n",
    "elif result.is_error():\n",
    "  print(result.errors)"
   ]
  },
  {
   "cell_type": "markdown",
   "metadata": {},
   "source": [
    "### Get Sub df"
   ]
  },
  {
   "cell_type": "code",
   "execution_count": 4,
   "metadata": {},
   "outputs": [
    {
     "data": {
      "text/html": [
       "<div>\n",
       "<style scoped>\n",
       "    .dataframe tbody tr th:only-of-type {\n",
       "        vertical-align: middle;\n",
       "    }\n",
       "\n",
       "    .dataframe tbody tr th {\n",
       "        vertical-align: top;\n",
       "    }\n",
       "\n",
       "    .dataframe thead th {\n",
       "        text-align: right;\n",
       "    }\n",
       "</style>\n",
       "<table border=\"1\" class=\"dataframe\">\n",
       "  <thead>\n",
       "    <tr style=\"text-align: right;\">\n",
       "      <th></th>\n",
       "      <th>id</th>\n",
       "      <th>location</th>\n",
       "      <th>customer_id</th>\n",
       "      <th>start_date</th>\n",
       "      <th>charged_through_date</th>\n",
       "      <th>status</th>\n",
       "      <th>created_at</th>\n",
       "      <th>plan_variation_id</th>\n",
       "    </tr>\n",
       "  </thead>\n",
       "  <tbody>\n",
       "    <tr>\n",
       "      <th>0</th>\n",
       "      <td>4653efbf-ef05-4339-805e-dec40a2f2e67</td>\n",
       "      <td>LV2XZS82XY1QP</td>\n",
       "      <td>1P0ZY96849H446231JNDH0V97R</td>\n",
       "      <td>2023-09-11</td>\n",
       "      <td>2023-10-11</td>\n",
       "      <td>ACTIVE</td>\n",
       "      <td>2023-09-11T01:33:05Z</td>\n",
       "      <td>HMO53UKKKTJW52YH3ZFZXJFU</td>\n",
       "    </tr>\n",
       "  </tbody>\n",
       "</table>\n",
       "</div>"
      ],
      "text/plain": [
       "                                     id       location  \\\n",
       "0  4653efbf-ef05-4339-805e-dec40a2f2e67  LV2XZS82XY1QP   \n",
       "\n",
       "                  customer_id  start_date charged_through_date  status  \\\n",
       "0  1P0ZY96849H446231JNDH0V97R  2023-09-11           2023-10-11  ACTIVE   \n",
       "\n",
       "             created_at         plan_variation_id  \n",
       "0  2023-09-11T01:33:05Z  HMO53UKKKTJW52YH3ZFZXJFU  "
      ]
     },
     "execution_count": 4,
     "metadata": {},
     "output_type": "execute_result"
    }
   ],
   "source": [
    "subscription_list = result.body[\"subscriptions\"]\n",
    "\n",
    "sub_details_list = []\n",
    "for subscription in subscription_list:\n",
    "    id = subscription[\"id\"]\n",
    "    location = subscription[\"location_id\"]\n",
    "    customer_id = subscription[\"customer_id\"]\n",
    "    start_date = subscription[\"start_date\"]\n",
    "    charged_through_date = subscription[\"charged_through_date\"]\n",
    "    status = subscription[\"status\"]\n",
    "    created_at = subscription[\"created_at\"]\n",
    "    plan_variation_id = subscription[\"plan_variation_id\"]\n",
    "    # ordinal = subscription[\"ordinal\"]\n",
    "    # order_template_id = subscription[\"order_template_id\"]\n",
    "\n",
    "    sub_details_list.append((id, location, customer_id, start_date, charged_through_date, status, created_at, plan_variation_id))\n",
    "\n",
    "sub_df = pd.DataFrame(sub_details_list, columns=[\"id\", \"location\", \"customer_id\", \"start_date\", \"charged_through_date\", \"status\", \"created_at\", \"plan_variation_id\"])\n",
    "\n",
    "sub_df.to_csv(\"./graph_data/sub_df.csv\", index=False)\n",
    "sub_df.head()\n",
    "\n"
   ]
  },
  {
   "cell_type": "markdown",
   "metadata": {},
   "source": [
    "### Subscription x Customer relationship"
   ]
  },
  {
   "cell_type": "code",
   "execution_count": 5,
   "metadata": {},
   "outputs": [
    {
     "data": {
      "text/html": [
       "<div>\n",
       "<style scoped>\n",
       "    .dataframe tbody tr th:only-of-type {\n",
       "        vertical-align: middle;\n",
       "    }\n",
       "\n",
       "    .dataframe tbody tr th {\n",
       "        vertical-align: top;\n",
       "    }\n",
       "\n",
       "    .dataframe thead th {\n",
       "        text-align: right;\n",
       "    }\n",
       "</style>\n",
       "<table border=\"1\" class=\"dataframe\">\n",
       "  <thead>\n",
       "    <tr style=\"text-align: right;\">\n",
       "      <th></th>\n",
       "      <th>id</th>\n",
       "      <th>customer_id</th>\n",
       "    </tr>\n",
       "  </thead>\n",
       "  <tbody>\n",
       "    <tr>\n",
       "      <th>0</th>\n",
       "      <td>4653efbf-ef05-4339-805e-dec40a2f2e67</td>\n",
       "      <td>1P0ZY96849H446231JNDH0V97R</td>\n",
       "    </tr>\n",
       "  </tbody>\n",
       "</table>\n",
       "</div>"
      ],
      "text/plain": [
       "                                     id                 customer_id\n",
       "0  4653efbf-ef05-4339-805e-dec40a2f2e67  1P0ZY96849H446231JNDH0V97R"
      ]
     },
     "execution_count": 5,
     "metadata": {},
     "output_type": "execute_result"
    }
   ],
   "source": [
    "sub_x_cust_df = sub_df[[\"id\", \"customer_id\"]]\n",
    "sub_x_cust_df = sub_x_cust_df.drop_duplicates()\n",
    "\n",
    "sub_x_cust_df.to_csv(\"./graph_data/sub_x_cust.csv\", index=False)\n",
    "sub_x_cust_df"
   ]
  },
  {
   "cell_type": "markdown",
   "metadata": {},
   "source": [
    "### Subscription x Plan Variation relationship"
   ]
  },
  {
   "cell_type": "code",
   "execution_count": 44,
   "metadata": {},
   "outputs": [
    {
     "data": {
      "text/html": [
       "<div>\n",
       "<style scoped>\n",
       "    .dataframe tbody tr th:only-of-type {\n",
       "        vertical-align: middle;\n",
       "    }\n",
       "\n",
       "    .dataframe tbody tr th {\n",
       "        vertical-align: top;\n",
       "    }\n",
       "\n",
       "    .dataframe thead th {\n",
       "        text-align: right;\n",
       "    }\n",
       "</style>\n",
       "<table border=\"1\" class=\"dataframe\">\n",
       "  <thead>\n",
       "    <tr style=\"text-align: right;\">\n",
       "      <th></th>\n",
       "      <th>id</th>\n",
       "      <th>plan_variation_id</th>\n",
       "    </tr>\n",
       "  </thead>\n",
       "  <tbody>\n",
       "    <tr>\n",
       "      <th>0</th>\n",
       "      <td>4653efbf-ef05-4339-805e-dec40a2f2e67</td>\n",
       "      <td>HMO53UKKKTJW52YH3ZFZXJFU</td>\n",
       "    </tr>\n",
       "  </tbody>\n",
       "</table>\n",
       "</div>"
      ],
      "text/plain": [
       "                                     id         plan_variation_id\n",
       "0  4653efbf-ef05-4339-805e-dec40a2f2e67  HMO53UKKKTJW52YH3ZFZXJFU"
      ]
     },
     "execution_count": 44,
     "metadata": {},
     "output_type": "execute_result"
    }
   ],
   "source": [
    "sub_x_plan_vari_df = sub_df[[\"id\", \"plan_variation_id\"]]\n",
    "sub_x_plan_vari_df = sub_x_plan_vari_df.drop_duplicates()\n",
    "\n",
    "sub_x_plan_vari_df.to_csv(\"./graph_data/sub_x_plan_vari.csv\", index=False)\n",
    "sub_x_plan_vari_df"
   ]
  },
  {
   "cell_type": "code",
   "execution_count": 4,
   "metadata": {},
   "outputs": [
    {
     "name": "stdout",
     "output_type": "stream",
     "text": [
      "{'invoices': [{'id': 'inv:0-ChDLBPyf57SVDJl0mzkbD8MxEIEL', 'version': 1, 'location_id': 'LV2XZS82XY1QP', 'order_id': '5svy0EhkF9zMrNOu65PHysIT1CgZY', 'payment_requests': [{'uid': '86e3d2fc-0bd1-455d-a768-9fdcbaa671d2', 'request_type': 'BALANCE', 'due_date': '2023-09-11', 'tipping_enabled': False, 'computed_amount_money': {'amount': 375, 'currency': 'USD'}, 'total_completed_amount_money': {'amount': 0, 'currency': 'USD'}, 'automatic_payment_source': 'NONE'}], 'primary_recipient': {'customer_id': '1P0ZY96849H446231JNDH0V97R', 'given_name': 'Amelia', 'family_name': 'Earhart', 'email_address': 'Amelia.Earhart@example.com', 'phone_number': '1-212-555-4240', 'company_name': 'Earhart United', 'address': {'address_line_1': '500 Electric Ave', 'address_line_2': 'Suite 600', 'locality': 'New York', 'administrative_district_level_1': 'NY', 'postal_code': '10003', 'country': 'US'}}, 'invoice_number': '000001', 'title': 'Daily subscription', 'public_url': 'https://squareupsandbox.com/pay-invoice/inv:0-ChDLBPyf57SVDJl0mzkbD8MxEIEL', 'next_payment_amount_money': {'amount': 375, 'currency': 'USD'}, 'status': 'UNPAID', 'timezone': 'UTC', 'created_at': '2023-09-11T01:33:07Z', 'updated_at': '2023-09-11T01:33:10Z', 'accepted_payment_methods': {'card': True, 'square_gift_card': False, 'bank_account': False, 'buy_now_pay_later': False, 'cash_app_pay': True}, 'delivery_method': 'EMAIL', 'subscription_id': '4653efbf-ef05-4339-805e-dec40a2f2e67', 'store_payment_method_enabled': True}]}\n"
     ]
    }
   ],
   "source": [
    "result = client.invoices.search_invoices(\n",
    "  body = {\n",
    "    \"query\": {\n",
    "      \"filter\": {\n",
    "        \"location_ids\": [\n",
    "          \"LV2XZS82XY1QP\"\n",
    "        ]\n",
    "      },\n",
    "      \"sort\": {\n",
    "        \"field\": \"INVOICE_SORT_DATE\",\n",
    "        \"order\": \"DESC\"\n",
    "      }\n",
    "    }\n",
    "  }\n",
    ")\n",
    "\n",
    "if result.is_success():\n",
    "  print(result.body)\n",
    "elif result.is_error():\n",
    "  print(result.errors)"
   ]
  },
  {
   "cell_type": "code",
   "execution_count": 11,
   "metadata": {},
   "outputs": [
    {
     "data": {
      "text/html": [
       "<div>\n",
       "<style scoped>\n",
       "    .dataframe tbody tr th:only-of-type {\n",
       "        vertical-align: middle;\n",
       "    }\n",
       "\n",
       "    .dataframe tbody tr th {\n",
       "        vertical-align: top;\n",
       "    }\n",
       "\n",
       "    .dataframe thead th {\n",
       "        text-align: right;\n",
       "    }\n",
       "</style>\n",
       "<table border=\"1\" class=\"dataframe\">\n",
       "  <thead>\n",
       "    <tr style=\"text-align: right;\">\n",
       "      <th></th>\n",
       "      <th>id</th>\n",
       "      <th>location</th>\n",
       "      <th>order_id</th>\n",
       "      <th>customer_id</th>\n",
       "      <th>invoice_number</th>\n",
       "      <th>title</th>\n",
       "      <th>status</th>\n",
       "      <th>subscription_id</th>\n",
       "      <th>created_at</th>\n",
       "      <th>updated_at</th>\n",
       "    </tr>\n",
       "  </thead>\n",
       "  <tbody>\n",
       "    <tr>\n",
       "      <th>0</th>\n",
       "      <td>inv:0-ChDLBPyf57SVDJl0mzkbD8MxEIEL</td>\n",
       "      <td>LV2XZS82XY1QP</td>\n",
       "      <td>5svy0EhkF9zMrNOu65PHysIT1CgZY</td>\n",
       "      <td>1P0ZY96849H446231JNDH0V97R</td>\n",
       "      <td>000001</td>\n",
       "      <td>Daily subscription</td>\n",
       "      <td>UNPAID</td>\n",
       "      <td>4653efbf-ef05-4339-805e-dec40a2f2e67</td>\n",
       "      <td>2023-09-11T01:33:07Z</td>\n",
       "      <td>2023-09-11T01:33:10Z</td>\n",
       "    </tr>\n",
       "  </tbody>\n",
       "</table>\n",
       "</div>"
      ],
      "text/plain": [
       "                                   id       location  \\\n",
       "0  inv:0-ChDLBPyf57SVDJl0mzkbD8MxEIEL  LV2XZS82XY1QP   \n",
       "\n",
       "                        order_id                 customer_id invoice_number  \\\n",
       "0  5svy0EhkF9zMrNOu65PHysIT1CgZY  1P0ZY96849H446231JNDH0V97R         000001   \n",
       "\n",
       "                title  status                       subscription_id  \\\n",
       "0  Daily subscription  UNPAID  4653efbf-ef05-4339-805e-dec40a2f2e67   \n",
       "\n",
       "             created_at            updated_at  \n",
       "0  2023-09-11T01:33:07Z  2023-09-11T01:33:10Z  "
      ]
     },
     "execution_count": 11,
     "metadata": {},
     "output_type": "execute_result"
    }
   ],
   "source": [
    "invoice_list = result.body[\"invoices\"]\n",
    "\n",
    "inv_details_list = []\n",
    "for invoice in invoice_list:\n",
    "    id = invoice[\"id\"]\n",
    "    location = invoice[\"location_id\"]\n",
    "    order_id = invoice[\"order_id\"]\n",
    "    customer_id = invoice[\"primary_recipient\"][\"customer_id\"]\n",
    "    invoice_number = invoice[\"invoice_number\"]\n",
    "    title = invoice[\"title\"]\n",
    "    status = invoice[\"status\"]\n",
    "    subscription_id = invoice[\"subscription_id\"]\n",
    "    created_at = invoice[\"created_at\"]\n",
    "    updated_at = invoice[\"updated_at\"]\n",
    "    # ordinal = invoice[\"ordinal\"]\n",
    "    # order_template_id = invoice[\"order_template_id\"]\n",
    "\n",
    "    \n",
    "    inv_details_list.append((id, location, order_id, customer_id, invoice_number, title, status, subscription_id, created_at, updated_at))\n",
    "\n",
    "inv_df = pd.DataFrame(inv_details_list, columns=[\"id\", \"location\", \"order_id\", \"customer_id\", \"invoice_number\", \"title\", \"status\", \"subscription_id\", \"created_at\", \"updated_at\"])\n",
    "\n",
    "inv_df.to_csv(\"./graph_data/invoice.csv\", index=False)\n",
    "inv_df.head()\n",
    "\n"
   ]
  },
  {
   "cell_type": "markdown",
   "metadata": {},
   "source": [
    "### Invoice x Customer relationship"
   ]
  },
  {
   "cell_type": "code",
   "execution_count": 12,
   "metadata": {},
   "outputs": [
    {
     "data": {
      "text/html": [
       "<div>\n",
       "<style scoped>\n",
       "    .dataframe tbody tr th:only-of-type {\n",
       "        vertical-align: middle;\n",
       "    }\n",
       "\n",
       "    .dataframe tbody tr th {\n",
       "        vertical-align: top;\n",
       "    }\n",
       "\n",
       "    .dataframe thead th {\n",
       "        text-align: right;\n",
       "    }\n",
       "</style>\n",
       "<table border=\"1\" class=\"dataframe\">\n",
       "  <thead>\n",
       "    <tr style=\"text-align: right;\">\n",
       "      <th></th>\n",
       "      <th>id</th>\n",
       "      <th>customer_id</th>\n",
       "    </tr>\n",
       "  </thead>\n",
       "  <tbody>\n",
       "    <tr>\n",
       "      <th>0</th>\n",
       "      <td>inv:0-ChDLBPyf57SVDJl0mzkbD8MxEIEL</td>\n",
       "      <td>1P0ZY96849H446231JNDH0V97R</td>\n",
       "    </tr>\n",
       "  </tbody>\n",
       "</table>\n",
       "</div>"
      ],
      "text/plain": [
       "                                   id                 customer_id\n",
       "0  inv:0-ChDLBPyf57SVDJl0mzkbD8MxEIEL  1P0ZY96849H446231JNDH0V97R"
      ]
     },
     "execution_count": 12,
     "metadata": {},
     "output_type": "execute_result"
    }
   ],
   "source": [
    "inv_x_cust_df = inv_df[[\"id\", \"customer_id\"]]\n",
    "inv_x_cust_df = inv_x_cust_df.drop_duplicates()\n",
    "\n",
    "inv_x_cust_df.to_csv(\"./graph_data/inv_x_cust.csv\", index=False)\n",
    "inv_x_cust_df"
   ]
  },
  {
   "cell_type": "markdown",
   "metadata": {},
   "source": [
    "### Invoice x Order relationship"
   ]
  },
  {
   "cell_type": "code",
   "execution_count": 16,
   "metadata": {},
   "outputs": [
    {
     "data": {
      "text/html": [
       "<div>\n",
       "<style scoped>\n",
       "    .dataframe tbody tr th:only-of-type {\n",
       "        vertical-align: middle;\n",
       "    }\n",
       "\n",
       "    .dataframe tbody tr th {\n",
       "        vertical-align: top;\n",
       "    }\n",
       "\n",
       "    .dataframe thead th {\n",
       "        text-align: right;\n",
       "    }\n",
       "</style>\n",
       "<table border=\"1\" class=\"dataframe\">\n",
       "  <thead>\n",
       "    <tr style=\"text-align: right;\">\n",
       "      <th></th>\n",
       "      <th>id</th>\n",
       "      <th>order_id</th>\n",
       "    </tr>\n",
       "  </thead>\n",
       "  <tbody>\n",
       "    <tr>\n",
       "      <th>0</th>\n",
       "      <td>inv:0-ChDLBPyf57SVDJl0mzkbD8MxEIEL</td>\n",
       "      <td>5svy0EhkF9zMrNOu65PHysIT1CgZY</td>\n",
       "    </tr>\n",
       "  </tbody>\n",
       "</table>\n",
       "</div>"
      ],
      "text/plain": [
       "                                   id                       order_id\n",
       "0  inv:0-ChDLBPyf57SVDJl0mzkbD8MxEIEL  5svy0EhkF9zMrNOu65PHysIT1CgZY"
      ]
     },
     "execution_count": 16,
     "metadata": {},
     "output_type": "execute_result"
    }
   ],
   "source": [
    "inv_x_order_df = inv_df[[\"id\", \"order_id\"]]\n",
    "inv_x_order_df = inv_x_order_df.drop_duplicates()\n",
    "\n",
    "inv_x_order_df.to_csv(\"./graph_data/inv_x_order.csv\", index=False)\n",
    "inv_x_order_df"
   ]
  },
  {
   "cell_type": "markdown",
   "metadata": {},
   "source": [
    "### Invoice x Sub relationship"
   ]
  },
  {
   "cell_type": "code",
   "execution_count": 15,
   "metadata": {},
   "outputs": [
    {
     "data": {
      "text/html": [
       "<div>\n",
       "<style scoped>\n",
       "    .dataframe tbody tr th:only-of-type {\n",
       "        vertical-align: middle;\n",
       "    }\n",
       "\n",
       "    .dataframe tbody tr th {\n",
       "        vertical-align: top;\n",
       "    }\n",
       "\n",
       "    .dataframe thead th {\n",
       "        text-align: right;\n",
       "    }\n",
       "</style>\n",
       "<table border=\"1\" class=\"dataframe\">\n",
       "  <thead>\n",
       "    <tr style=\"text-align: right;\">\n",
       "      <th></th>\n",
       "      <th>id</th>\n",
       "      <th>subscription_id</th>\n",
       "    </tr>\n",
       "  </thead>\n",
       "  <tbody>\n",
       "    <tr>\n",
       "      <th>0</th>\n",
       "      <td>inv:0-ChDLBPyf57SVDJl0mzkbD8MxEIEL</td>\n",
       "      <td>4653efbf-ef05-4339-805e-dec40a2f2e67</td>\n",
       "    </tr>\n",
       "  </tbody>\n",
       "</table>\n",
       "</div>"
      ],
      "text/plain": [
       "                                   id                       subscription_id\n",
       "0  inv:0-ChDLBPyf57SVDJl0mzkbD8MxEIEL  4653efbf-ef05-4339-805e-dec40a2f2e67"
      ]
     },
     "execution_count": 15,
     "metadata": {},
     "output_type": "execute_result"
    }
   ],
   "source": [
    "inv_x_sub_df = inv_df[[\"id\", \"subscription_id\"]]\n",
    "inv_x_sub_df = inv_x_sub_df.drop_duplicates()\n",
    "\n",
    "inv_x_sub_df.to_csv(\"./graph_data/inv_x_sub.csv\", index=False)\n",
    "inv_x_sub_df"
   ]
  }
 ],
 "metadata": {
  "kernelspec": {
   "display_name": "Python 3",
   "language": "python",
   "name": "python3"
  },
  "language_info": {
   "codemirror_mode": {
    "name": "ipython",
    "version": 3
   },
   "file_extension": ".py",
   "mimetype": "text/x-python",
   "name": "python",
   "nbconvert_exporter": "python",
   "pygments_lexer": "ipython3",
   "version": "3.10.0"
  },
  "orig_nbformat": 4
 },
 "nbformat": 4,
 "nbformat_minor": 2
}

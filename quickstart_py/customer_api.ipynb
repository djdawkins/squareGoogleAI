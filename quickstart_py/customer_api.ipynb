{
 "cells": [
  {
   "cell_type": "code",
   "execution_count": 6,
   "metadata": {},
   "outputs": [
    {
     "data": {
      "text/plain": [
       "True"
      ]
     },
     "execution_count": 6,
     "metadata": {},
     "output_type": "execute_result"
    }
   ],
   "source": [
    "from square.client import Client\n",
    "import os\n",
    "from dotenv import load_dotenv\n",
    "import pandas as pd\n",
    "load_dotenv()"
   ]
  },
  {
   "cell_type": "code",
   "execution_count": 7,
   "metadata": {},
   "outputs": [],
   "source": [
    "client = Client(\n",
    "    access_token=os.environ['SQUARE_ACCESS_TOKEN'],\n",
    "    environment='sandbox')\n",
    "\n",
    "orders_api = client.orders"
   ]
  },
  {
   "cell_type": "code",
   "execution_count": 8,
   "metadata": {},
   "outputs": [
    {
     "name": "stdout",
     "output_type": "stream",
     "text": [
      "{'customers': [{'id': '1P0ZY96849H446231JNDH0V97R', 'created_at': '2023-09-09T02:09:15.379Z', 'updated_at': '2023-09-09T02:09:15Z', 'given_name': 'Amelia', 'family_name': 'Earhart', 'email_address': 'Amelia.Earhart@example.com', 'address': {'address_line_1': '500 Electric Ave', 'address_line_2': 'Suite 600', 'locality': 'New York', 'administrative_district_level_1': 'NY', 'postal_code': '10003', 'country': 'US'}, 'phone_number': '1-212-555-4240', 'note': 'A customer for GraphQL sample app', 'reference_id': 'GRAPHQL-SAMPLE-APP', 'company_name': 'Earhart United', 'preferences': {'email_unsubscribed': False}, 'creation_source': 'THIRD_PARTY', 'version': 0}, {'id': 'VK09BGAVBNB1T5F4530K163W5M', 'created_at': '2023-09-09T02:09:15.876Z', 'updated_at': '2023-09-09T02:09:15Z', 'given_name': 'William', 'family_name': 'Shakespeare', 'email_address': 'William.Shakespeare@example.com', 'address': {'address_line_1': '1000 Juliet Lane', 'address_line_2': 'Unit A', 'locality': 'Stratford', 'administrative_district_level_1': 'Avon', 'postal_code': '12345', 'country': 'GB'}, 'phone_number': '1-212-444-1234', 'note': 'A customer for GraphQL sample app', 'reference_id': 'GRAPHQL-SAMPLE-APP', 'company_name': \"King's Men\", 'preferences': {'email_unsubscribed': False}, 'creation_source': 'THIRD_PARTY', 'version': 0}, {'id': '64AS3BG573V3JW759JH9N7K2X8', 'created_at': '2023-09-09T02:09:16.261Z', 'updated_at': '2023-09-09T02:09:16Z', 'given_name': 'Charles', 'family_name': 'Darwin', 'email_address': 'Charles.Darwin@example.com', 'address': {'address_line_1': '915 Origin Street', 'locality': 'The Mount', 'administrative_district_level_1': 'Shrewsbury', 'postal_code': '10003', 'country': 'GB'}, 'phone_number': '1-806-123-4555', 'note': 'A customer for GraphQL sample app', 'reference_id': 'GRAPHQL-SAMPLE-APP', 'company_name': 'Darwin Platform', 'preferences': {'email_unsubscribed': False}, 'creation_source': 'THIRD_PARTY', 'version': 0}, {'id': 'T7EM1V4A8J23ZGYNGATK07PNKR', 'created_at': '2023-09-09T02:09:16.845Z', 'updated_at': '2023-09-09T02:09:16Z', 'given_name': 'Abraham', 'family_name': 'Lincoln', 'email_address': 'Abraham.Lincoln@example.com', 'address': {'address_line_1': '500 Electric Ave', 'address_line_2': 'Suite 600', 'locality': 'Sinking Spring Farm', 'administrative_district_level_1': 'KY', 'postal_code': '90000', 'country': 'US'}, 'phone_number': '1-111-666-4240', 'note': 'A customer for GraphQL sample app', 'reference_id': 'GRAPHQL-SAMPLE-APP', 'company_name': 'Lincoln Property', 'preferences': {'email_unsubscribed': False}, 'creation_source': 'THIRD_PARTY', 'version': 0}, {'id': 'MXSQ3Q1QE8M80HDTVHHJEZRF50', 'created_at': '2023-09-09T02:09:17.405Z', 'updated_at': '2023-09-09T02:09:17Z', 'given_name': 'Maya', 'family_name': 'Angelou', 'email_address': 'Maya.Angelou@example.com', 'address': {'address_line_1': '11 Rose Way', 'locality': 'St Louis', 'administrative_district_level_1': 'MO', 'postal_code': '12345', 'country': 'US'}, 'phone_number': '1-212-555-8888', 'note': 'A customer for GraphQL sample app', 'reference_id': 'GRAPHQL-SAMPLE-APP', 'company_name': 'Caged Bird Legacy', 'preferences': {'email_unsubscribed': False}, 'creation_source': 'THIRD_PARTY', 'version': 0}, {'id': '6WH79TC7KP6X5AYXWQWDR377TW', 'created_at': '2023-09-09T02:09:17.989Z', 'updated_at': '2023-09-09T02:09:17Z', 'given_name': 'Frida', 'family_name': 'Kahlo', 'email_address': 'Frida.Kahlo@example.com', 'address': {'address_line_1': '7253 Surrealism Ave', 'address_line_2': 'Suite 5', 'locality': 'Coyoacá', 'administrative_district_level_1': 'Mexico City', 'postal_code': '10003', 'country': 'MX'}, 'phone_number': '1-212-555-4240', 'note': 'A customer for GraphQL sample app', 'reference_id': 'GRAPHQL-SAMPLE-APP', 'company_name': 'The Two Fridas', 'preferences': {'email_unsubscribed': False}, 'creation_source': 'THIRD_PARTY', 'version': 0}]}\n"
     ]
    }
   ],
   "source": [
    "# Customer orders\n",
    "body = {\n",
    "  \"limit\": 100,\n",
    "  \"query\": {\n",
    "    \"filter\": {\n",
    "    },\n",
    "    \"sort\": {\n",
    "      \"field\": \"CREATED_AT\",\n",
    "      \"order\": \"ASC\"\n",
    "    }\n",
    "  }\n",
    "}\n",
    "\n",
    "result = client.customers.search_customers(body)\n",
    "\n",
    "if result.is_success():\n",
    "  print(result.body)\n",
    "elif result.is_error():\n",
    "  print(result.errors)\n"
   ]
  },
  {
   "cell_type": "code",
   "execution_count": 9,
   "metadata": {},
   "outputs": [
    {
     "name": "stdout",
     "output_type": "stream",
     "text": [
      "6\n"
     ]
    },
    {
     "data": {
      "text/html": [
       "<div>\n",
       "<style scoped>\n",
       "    .dataframe tbody tr th:only-of-type {\n",
       "        vertical-align: middle;\n",
       "    }\n",
       "\n",
       "    .dataframe tbody tr th {\n",
       "        vertical-align: top;\n",
       "    }\n",
       "\n",
       "    .dataframe thead th {\n",
       "        text-align: right;\n",
       "    }\n",
       "</style>\n",
       "<table border=\"1\" class=\"dataframe\">\n",
       "  <thead>\n",
       "    <tr style=\"text-align: right;\">\n",
       "      <th></th>\n",
       "      <th>id</th>\n",
       "      <th>created_at</th>\n",
       "      <th>updated_at</th>\n",
       "      <th>given_name</th>\n",
       "      <th>family_name</th>\n",
       "      <th>email_address</th>\n",
       "      <th>address_locality</th>\n",
       "      <th>address_postal_code</th>\n",
       "      <th>address_country</th>\n",
       "    </tr>\n",
       "  </thead>\n",
       "  <tbody>\n",
       "    <tr>\n",
       "      <th>0</th>\n",
       "      <td>1P0ZY96849H446231JNDH0V97R</td>\n",
       "      <td>2023-09-09T02:09:15.379Z</td>\n",
       "      <td>2023-09-09T02:09:15Z</td>\n",
       "      <td>Amelia</td>\n",
       "      <td>Earhart</td>\n",
       "      <td>Amelia.Earhart@example.com</td>\n",
       "      <td>New York</td>\n",
       "      <td>10003</td>\n",
       "      <td>US</td>\n",
       "    </tr>\n",
       "    <tr>\n",
       "      <th>1</th>\n",
       "      <td>VK09BGAVBNB1T5F4530K163W5M</td>\n",
       "      <td>2023-09-09T02:09:15.876Z</td>\n",
       "      <td>2023-09-09T02:09:15Z</td>\n",
       "      <td>William</td>\n",
       "      <td>Shakespeare</td>\n",
       "      <td>William.Shakespeare@example.com</td>\n",
       "      <td>Stratford</td>\n",
       "      <td>12345</td>\n",
       "      <td>GB</td>\n",
       "    </tr>\n",
       "    <tr>\n",
       "      <th>2</th>\n",
       "      <td>64AS3BG573V3JW759JH9N7K2X8</td>\n",
       "      <td>2023-09-09T02:09:16.261Z</td>\n",
       "      <td>2023-09-09T02:09:16Z</td>\n",
       "      <td>Charles</td>\n",
       "      <td>Darwin</td>\n",
       "      <td>Charles.Darwin@example.com</td>\n",
       "      <td>The Mount</td>\n",
       "      <td>10003</td>\n",
       "      <td>GB</td>\n",
       "    </tr>\n",
       "    <tr>\n",
       "      <th>3</th>\n",
       "      <td>T7EM1V4A8J23ZGYNGATK07PNKR</td>\n",
       "      <td>2023-09-09T02:09:16.845Z</td>\n",
       "      <td>2023-09-09T02:09:16Z</td>\n",
       "      <td>Abraham</td>\n",
       "      <td>Lincoln</td>\n",
       "      <td>Abraham.Lincoln@example.com</td>\n",
       "      <td>Sinking Spring Farm</td>\n",
       "      <td>90000</td>\n",
       "      <td>US</td>\n",
       "    </tr>\n",
       "    <tr>\n",
       "      <th>4</th>\n",
       "      <td>MXSQ3Q1QE8M80HDTVHHJEZRF50</td>\n",
       "      <td>2023-09-09T02:09:17.405Z</td>\n",
       "      <td>2023-09-09T02:09:17Z</td>\n",
       "      <td>Maya</td>\n",
       "      <td>Angelou</td>\n",
       "      <td>Maya.Angelou@example.com</td>\n",
       "      <td>St Louis</td>\n",
       "      <td>12345</td>\n",
       "      <td>US</td>\n",
       "    </tr>\n",
       "    <tr>\n",
       "      <th>5</th>\n",
       "      <td>6WH79TC7KP6X5AYXWQWDR377TW</td>\n",
       "      <td>2023-09-09T02:09:17.989Z</td>\n",
       "      <td>2023-09-09T02:09:17Z</td>\n",
       "      <td>Frida</td>\n",
       "      <td>Kahlo</td>\n",
       "      <td>Frida.Kahlo@example.com</td>\n",
       "      <td>Coyoacá</td>\n",
       "      <td>10003</td>\n",
       "      <td>MX</td>\n",
       "    </tr>\n",
       "  </tbody>\n",
       "</table>\n",
       "</div>"
      ],
      "text/plain": [
       "                           id                created_at            updated_at  \\\n",
       "0  1P0ZY96849H446231JNDH0V97R  2023-09-09T02:09:15.379Z  2023-09-09T02:09:15Z   \n",
       "1  VK09BGAVBNB1T5F4530K163W5M  2023-09-09T02:09:15.876Z  2023-09-09T02:09:15Z   \n",
       "2  64AS3BG573V3JW759JH9N7K2X8  2023-09-09T02:09:16.261Z  2023-09-09T02:09:16Z   \n",
       "3  T7EM1V4A8J23ZGYNGATK07PNKR  2023-09-09T02:09:16.845Z  2023-09-09T02:09:16Z   \n",
       "4  MXSQ3Q1QE8M80HDTVHHJEZRF50  2023-09-09T02:09:17.405Z  2023-09-09T02:09:17Z   \n",
       "5  6WH79TC7KP6X5AYXWQWDR377TW  2023-09-09T02:09:17.989Z  2023-09-09T02:09:17Z   \n",
       "\n",
       "  given_name  family_name                    email_address  \\\n",
       "0     Amelia      Earhart       Amelia.Earhart@example.com   \n",
       "1    William  Shakespeare  William.Shakespeare@example.com   \n",
       "2    Charles       Darwin       Charles.Darwin@example.com   \n",
       "3    Abraham      Lincoln      Abraham.Lincoln@example.com   \n",
       "4       Maya      Angelou         Maya.Angelou@example.com   \n",
       "5      Frida        Kahlo          Frida.Kahlo@example.com   \n",
       "\n",
       "      address_locality address_postal_code address_country  \n",
       "0             New York               10003              US  \n",
       "1            Stratford               12345              GB  \n",
       "2            The Mount               10003              GB  \n",
       "3  Sinking Spring Farm               90000              US  \n",
       "4             St Louis               12345              US  \n",
       "5              Coyoacá               10003              MX  "
      ]
     },
     "execution_count": 9,
     "metadata": {},
     "output_type": "execute_result"
    }
   ],
   "source": [
    "catalog_dict = result.body\n",
    "customers_list = catalog_dict[\"customers\"]\n",
    "\n",
    "order_entries_list = customers_list\n",
    "\n",
    "print(len(customers_list))\n",
    "customer_id_list = []\n",
    "\n",
    "for x in range(0, len(customers_list)):\n",
    "    customer = customers_list[x]\n",
    "    id = customer[\"id\"]\n",
    "    created_at = customer[\"created_at\"]\n",
    "    updated_at = customer[\"updated_at\"]\n",
    "    given_name = customer[\"given_name\"]\n",
    "    family_name = customer[\"family_name\"]\n",
    "    email_address = customer[\"email_address\"]\n",
    "    address_locality = customer[\"address\"][\"locality\"]\n",
    "    address_postal_code = customer[\"address\"][\"postal_code\"]\n",
    "    address_country = customer[\"address\"][\"country\"]\n",
    "\n",
    "    customer_id_list.append((id, created_at, updated_at, given_name, family_name, \n",
    "                       email_address, address_locality, address_postal_code, address_country))\n",
    "    \n",
    "\n",
    "\n",
    "# create DataFrame using data\n",
    "customer_df = pd.DataFrame(customer_id_list, columns =['id', 'created_at', 'updated_at', 'given_name', 'family_name', \n",
    "                       'email_address', 'address_locality', 'address_postal_code', 'address_country'])\n",
    "\n",
    "customer_df.to_csv(\"./graph_data/customers.csv\", index=False)\n",
    "customer_df\n"
   ]
  },
  {
   "cell_type": "code",
   "execution_count": null,
   "metadata": {},
   "outputs": [],
   "source": []
  }
 ],
 "metadata": {
  "kernelspec": {
   "display_name": "Python 3",
   "language": "python",
   "name": "python3"
  },
  "language_info": {
   "codemirror_mode": {
    "name": "ipython",
    "version": 3
   },
   "file_extension": ".py",
   "mimetype": "text/x-python",
   "name": "python",
   "nbconvert_exporter": "python",
   "pygments_lexer": "ipython3",
   "version": "3.10.0"
  },
  "orig_nbformat": 4
 },
 "nbformat": 4,
 "nbformat_minor": 2
}
